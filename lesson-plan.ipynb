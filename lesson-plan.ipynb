{
 "cells": [
  {
   "cell_type": "markdown",
   "metadata": {},
   "source": [
    "Most of this code can be found at <a href='https://keras.io'>keras.io</a>"
   ]
  },
  {
   "cell_type": "markdown",
   "metadata": {},
   "source": [
    "## Questions\n",
    "\n",
    "\n",
    "## Objectives \n",
    "YWBAT \n",
    "- build a neural network using keras\n",
    "- compare models based on their depth\n",
    "- *choose the best optimizer for a model*"
   ]
  },
  {
   "cell_type": "markdown",
   "metadata": {},
   "source": [
    "### Why do we use NNs?\n",
    "- identify combinations of features and learn combinations of features\n",
    "- reduces the need for domain expertise"
   ]
  },
  {
   "cell_type": "markdown",
   "metadata": {},
   "source": [
    "### Outline\n",
    "* Import data\n",
    "* Build single layer model\n",
    "* Build 2 layer model\n",
    "* Students build their own deep learning model\n",
    "* evaluate models, tune optimizers"
   ]
  },
  {
   "cell_type": "markdown",
   "metadata": {},
   "source": [
    "# Useful Imports"
   ]
  },
  {
   "cell_type": "code",
   "execution_count": 192,
   "metadata": {
    "ExecuteTime": {
     "end_time": "2019-06-18T16:18:12.782645Z",
     "start_time": "2019-06-18T16:18:11.185732Z"
    }
   },
   "outputs": [],
   "source": [
    "import keras\n",
    "import numpy as np\n",
    "import pandas as pd\n",
    "\n",
    "from sklearn.metrics import classification_report\n",
    "\n",
    "import matplotlib.pyplot as plt"
   ]
  },
  {
   "cell_type": "code",
   "execution_count": 2,
   "metadata": {
    "ExecuteTime": {
     "end_time": "2019-06-18T16:18:13.087187Z",
     "start_time": "2019-06-18T16:18:13.082385Z"
    }
   },
   "outputs": [],
   "source": [
    "from keras import models\n",
    "from keras import layers\n",
    "from keras import optimizers"
   ]
  },
  {
   "cell_type": "markdown",
   "metadata": {},
   "source": [
    "# Obtaining Dataset & Train-Test Split"
   ]
  },
  {
   "cell_type": "markdown",
   "metadata": {},
   "source": [
    "Nothing different from training other models"
   ]
  },
  {
   "cell_type": "code",
   "execution_count": 3,
   "metadata": {
    "ExecuteTime": {
     "end_time": "2019-06-18T16:18:13.048684Z",
     "start_time": "2019-06-18T16:18:12.784941Z"
    }
   },
   "outputs": [
    {
     "name": "stderr",
     "output_type": "stream",
     "text": [
      "/anaconda3/lib/python3.7/site-packages/sklearn/preprocessing/_encoders.py:415: FutureWarning: The handling of integer data will change in version 0.22. Currently, the categories are determined based on the range [0, max(values)], while in the future they will be determined based on the unique values.\n",
      "If you want the future behaviour and silence this warning, you can specify \"categories='auto'\".\n",
      "In case you used a LabelEncoder before this OneHotEncoder to convert the categories to integers, then you can now use the OneHotEncoder directly.\n",
      "  warnings.warn(msg, FutureWarning)\n"
     ]
    }
   ],
   "source": [
    "from sklearn.datasets import load_iris\n",
    "from sklearn.model_selection import train_test_split\n",
    "from sklearn.preprocessing import OneHotEncoder, StandardScaler\n",
    "\n",
    "iris = load_iris()\n",
    "x = iris['data']\n",
    "y = iris['target']\n",
    "names = iris['target_names']\n",
    "feature_names = iris['feature_names']\n",
    "\n",
    "# One hot encoding\n",
    "enc = OneHotEncoder()\n",
    "y = enc.fit_transform(y[:, np.newaxis]).toarray()\n",
    "\n",
    "# Scale data to have mean 0 and variance 1 \n",
    "# which is importance for convergence of the neural network\n",
    "scaler = StandardScaler()\n",
    "x_scaled = scaler.fit_transform(x)\n",
    "\n",
    "# Split the data set into training and testing\n",
    "x_train, x_test, y_train, y_test = train_test_split(x_scaled, y, test_size=0.4, random_state=2)"
   ]
  },
  {
   "cell_type": "code",
   "execution_count": 196,
   "metadata": {},
   "outputs": [
    {
     "data": {
      "text/html": [
       "<div>\n",
       "<style scoped>\n",
       "    .dataframe tbody tr th:only-of-type {\n",
       "        vertical-align: middle;\n",
       "    }\n",
       "\n",
       "    .dataframe tbody tr th {\n",
       "        vertical-align: top;\n",
       "    }\n",
       "\n",
       "    .dataframe thead th {\n",
       "        text-align: right;\n",
       "    }\n",
       "</style>\n",
       "<table border=\"1\" class=\"dataframe\">\n",
       "  <thead>\n",
       "    <tr style=\"text-align: right;\">\n",
       "      <th></th>\n",
       "      <th>ID</th>\n",
       "      <th>fLength:</th>\n",
       "      <th>fWidth:</th>\n",
       "      <th>fSize:</th>\n",
       "      <th>fConc:</th>\n",
       "      <th>fConc1:</th>\n",
       "      <th>fAsym:</th>\n",
       "      <th>fM3Long:</th>\n",
       "      <th>fM3Trans:</th>\n",
       "      <th>fAlpha:</th>\n",
       "      <th>fDist:</th>\n",
       "      <th>class:</th>\n",
       "    </tr>\n",
       "  </thead>\n",
       "  <tbody>\n",
       "    <tr>\n",
       "      <th>0</th>\n",
       "      <td>1</td>\n",
       "      <td>28.7967</td>\n",
       "      <td>16.0021</td>\n",
       "      <td>2.6449</td>\n",
       "      <td>0.3918</td>\n",
       "      <td>0.1982</td>\n",
       "      <td>27.7004</td>\n",
       "      <td>22.0110</td>\n",
       "      <td>-8.2027</td>\n",
       "      <td>40.0920</td>\n",
       "      <td>81.8828</td>\n",
       "      <td>g</td>\n",
       "    </tr>\n",
       "    <tr>\n",
       "      <th>1</th>\n",
       "      <td>2</td>\n",
       "      <td>31.6036</td>\n",
       "      <td>11.7235</td>\n",
       "      <td>2.5185</td>\n",
       "      <td>0.5303</td>\n",
       "      <td>0.3773</td>\n",
       "      <td>26.2722</td>\n",
       "      <td>23.8238</td>\n",
       "      <td>-9.9574</td>\n",
       "      <td>6.3609</td>\n",
       "      <td>205.2610</td>\n",
       "      <td>g</td>\n",
       "    </tr>\n",
       "  </tbody>\n",
       "</table>\n",
       "</div>"
      ],
      "text/plain": [
       "   ID  fLength:  fWidth:  fSize:  fConc:  fConc1:   fAsym:  fM3Long:  \\\n",
       "0   1   28.7967  16.0021  2.6449  0.3918   0.1982  27.7004   22.0110   \n",
       "1   2   31.6036  11.7235  2.5185  0.5303   0.3773  26.2722   23.8238   \n",
       "\n",
       "   fM3Trans:  fAlpha:    fDist: class:  \n",
       "0    -8.2027  40.0920   81.8828      g  \n",
       "1    -9.9574   6.3609  205.2610      g  "
      ]
     },
     "metadata": {},
     "output_type": "display_data"
    },
    {
     "data": {
      "text/html": [
       "<div>\n",
       "<style scoped>\n",
       "    .dataframe tbody tr th:only-of-type {\n",
       "        vertical-align: middle;\n",
       "    }\n",
       "\n",
       "    .dataframe tbody tr th {\n",
       "        vertical-align: top;\n",
       "    }\n",
       "\n",
       "    .dataframe thead th {\n",
       "        text-align: right;\n",
       "    }\n",
       "</style>\n",
       "<table border=\"1\" class=\"dataframe\">\n",
       "  <thead>\n",
       "    <tr style=\"text-align: right;\">\n",
       "      <th></th>\n",
       "      <th>fLength:</th>\n",
       "      <th>fWidth:</th>\n",
       "      <th>fSize:</th>\n",
       "      <th>fConc:</th>\n",
       "      <th>fConc1:</th>\n",
       "      <th>fAsym:</th>\n",
       "      <th>fM3Long:</th>\n",
       "      <th>fM3Trans:</th>\n",
       "      <th>fAlpha:</th>\n",
       "      <th>fDist:</th>\n",
       "      <th>class:</th>\n",
       "    </tr>\n",
       "  </thead>\n",
       "  <tbody>\n",
       "    <tr>\n",
       "      <th>0</th>\n",
       "      <td>28.7967</td>\n",
       "      <td>16.0021</td>\n",
       "      <td>2.6449</td>\n",
       "      <td>0.3918</td>\n",
       "      <td>0.1982</td>\n",
       "      <td>27.7004</td>\n",
       "      <td>22.0110</td>\n",
       "      <td>-8.2027</td>\n",
       "      <td>40.0920</td>\n",
       "      <td>81.8828</td>\n",
       "      <td>g</td>\n",
       "    </tr>\n",
       "    <tr>\n",
       "      <th>1</th>\n",
       "      <td>31.6036</td>\n",
       "      <td>11.7235</td>\n",
       "      <td>2.5185</td>\n",
       "      <td>0.5303</td>\n",
       "      <td>0.3773</td>\n",
       "      <td>26.2722</td>\n",
       "      <td>23.8238</td>\n",
       "      <td>-9.9574</td>\n",
       "      <td>6.3609</td>\n",
       "      <td>205.2610</td>\n",
       "      <td>g</td>\n",
       "    </tr>\n",
       "  </tbody>\n",
       "</table>\n",
       "</div>"
      ],
      "text/plain": [
       "   fLength:  fWidth:  fSize:  fConc:  fConc1:   fAsym:  fM3Long:  fM3Trans:  \\\n",
       "0   28.7967  16.0021  2.6449  0.3918   0.1982  27.7004   22.0110    -8.2027   \n",
       "1   31.6036  11.7235  2.5185  0.5303   0.3773  26.2722   23.8238    -9.9574   \n",
       "\n",
       "   fAlpha:    fDist: class:  \n",
       "0  40.0920   81.8828      g  \n",
       "1   6.3609  205.2610      g  "
      ]
     },
     "execution_count": 196,
     "metadata": {},
     "output_type": "execute_result"
    }
   ],
   "source": [
    "### Let's load in some custom data\n",
    "df = pd.read_csv(\"MagicTelescope.csv\")\n",
    "display(df.head(2))\n",
    "df.drop(\"ID\", axis=1, inplace=True)\n",
    "df.head(2)"
   ]
  },
  {
   "cell_type": "markdown",
   "metadata": {},
   "source": [
    "# Creating a Neural Network"
   ]
  },
  {
   "cell_type": "markdown",
   "metadata": {},
   "source": [
    "`Sequential` is referring to the neural networks we've observed. There are other neural network models that will go beyond this class."
   ]
  },
  {
   "cell_type": "code",
   "execution_count": 133,
   "metadata": {
    "ExecuteTime": {
     "end_time": "2019-06-18T16:18:13.126356Z",
     "start_time": "2019-06-18T16:18:13.090188Z"
    }
   },
   "outputs": [],
   "source": [
    "from keras.models import Sequential\n",
    "\n",
    "model = Sequential()"
   ]
  },
  {
   "cell_type": "markdown",
   "metadata": {},
   "source": [
    "The actual network; we can decide how many layers & nodes for each layer here as well as other hyperparameters like the activation function."
   ]
  },
  {
   "cell_type": "code",
   "execution_count": 166,
   "metadata": {
    "ExecuteTime": {
     "end_time": "2019-06-18T19:28:01.843032Z",
     "start_time": "2019-06-18T19:27:59.181321Z"
    }
   },
   "outputs": [],
   "source": [
    "from keras.layers import Dense\n",
    "\n",
    "model.add(Dense(units=4, activation='relu', input_dim=4))\n",
    "model.add(Dense(units=3, activation='softmax'))"
   ]
  },
  {
   "cell_type": "markdown",
   "metadata": {},
   "source": [
    "Compile the model to a form that the computer can more easily work with"
   ]
  },
  {
   "cell_type": "code",
   "execution_count": 167,
   "metadata": {
    "ExecuteTime": {
     "end_time": "2019-06-18T16:18:13.223984Z",
     "start_time": "2019-06-18T16:18:13.187420Z"
    }
   },
   "outputs": [],
   "source": [
    "model.compile(loss=keras.losses.categorical_crossentropy, \n",
    "              optimizer=optimizers.SGD(lr=0.001, momentum=0.9, nesterov=True))"
   ]
  },
  {
   "cell_type": "markdown",
   "metadata": {},
   "source": [
    "# Using the Model"
   ]
  },
  {
   "cell_type": "markdown",
   "metadata": {},
   "source": [
    "Using the model structure, we do sequences of feedfoward and then backpropagation to adjust the weights and biases (training/fitting)"
   ]
  },
  {
   "cell_type": "code",
   "execution_count": 168,
   "metadata": {
    "ExecuteTime": {
     "end_time": "2019-06-18T16:18:23.443468Z",
     "start_time": "2019-06-18T16:18:13.227101Z"
    },
    "scrolled": false
   },
   "outputs": [
    {
     "name": "stdout",
     "output_type": "stream",
     "text": [
      "Epoch 1/100\n",
      "90/90 [==============================] - 2s 19ms/step - loss: 0.9868\n",
      "Epoch 2/100\n",
      "90/90 [==============================] - 0s 134us/step - loss: 0.9821\n",
      "Epoch 3/100\n",
      "90/90 [==============================] - 0s 159us/step - loss: 0.9753\n",
      "Epoch 4/100\n",
      "90/90 [==============================] - 0s 165us/step - loss: 0.9677\n",
      "Epoch 5/100\n",
      "90/90 [==============================] - 0s 164us/step - loss: 0.9596\n",
      "Epoch 6/100\n",
      "90/90 [==============================] - 0s 157us/step - loss: 0.9518\n",
      "Epoch 7/100\n",
      "90/90 [==============================] - 0s 146us/step - loss: 0.9441\n",
      "Epoch 8/100\n",
      "90/90 [==============================] - 0s 137us/step - loss: 0.9362\n",
      "Epoch 9/100\n",
      "90/90 [==============================] - 0s 141us/step - loss: 0.9283\n",
      "Epoch 10/100\n",
      "90/90 [==============================] - 0s 145us/step - loss: 0.9204\n",
      "Epoch 11/100\n",
      "90/90 [==============================] - 0s 150us/step - loss: 0.9126\n",
      "Epoch 12/100\n",
      "90/90 [==============================] - 0s 138us/step - loss: 0.9052\n",
      "Epoch 13/100\n",
      "90/90 [==============================] - 0s 145us/step - loss: 0.8989\n",
      "Epoch 14/100\n",
      "90/90 [==============================] - 0s 155us/step - loss: 0.8928\n",
      "Epoch 15/100\n",
      "90/90 [==============================] - 0s 147us/step - loss: 0.8868\n",
      "Epoch 16/100\n",
      "90/90 [==============================] - 0s 147us/step - loss: 0.8811\n",
      "Epoch 17/100\n",
      "90/90 [==============================] - 0s 166us/step - loss: 0.8755\n",
      "Epoch 18/100\n",
      "90/90 [==============================] - 0s 149us/step - loss: 0.8703\n",
      "Epoch 19/100\n",
      "90/90 [==============================] - 0s 140us/step - loss: 0.8644\n",
      "Epoch 20/100\n",
      "90/90 [==============================] - 0s 150us/step - loss: 0.8591\n",
      "Epoch 21/100\n",
      "90/90 [==============================] - 0s 165us/step - loss: 0.8538\n",
      "Epoch 22/100\n",
      "90/90 [==============================] - 0s 166us/step - loss: 0.8482\n",
      "Epoch 23/100\n",
      "90/90 [==============================] - 0s 161us/step - loss: 0.8430\n",
      "Epoch 24/100\n",
      "90/90 [==============================] - 0s 160us/step - loss: 0.8376\n",
      "Epoch 25/100\n",
      "90/90 [==============================] - 0s 161us/step - loss: 0.8322\n",
      "Epoch 26/100\n",
      "90/90 [==============================] - 0s 189us/step - loss: 0.8268\n",
      "Epoch 27/100\n",
      "90/90 [==============================] - 0s 174us/step - loss: 0.8217\n",
      "Epoch 28/100\n",
      "90/90 [==============================] - 0s 178us/step - loss: 0.8165\n",
      "Epoch 29/100\n",
      "90/90 [==============================] - 0s 164us/step - loss: 0.8113\n",
      "Epoch 30/100\n",
      "90/90 [==============================] - 0s 168us/step - loss: 0.8061\n",
      "Epoch 31/100\n",
      "90/90 [==============================] - 0s 170us/step - loss: 0.8011\n",
      "Epoch 32/100\n",
      "90/90 [==============================] - 0s 162us/step - loss: 0.7960\n",
      "Epoch 33/100\n",
      "90/90 [==============================] - 0s 176us/step - loss: 0.7911\n",
      "Epoch 34/100\n",
      "90/90 [==============================] - 0s 169us/step - loss: 0.7861\n",
      "Epoch 35/100\n",
      "90/90 [==============================] - 0s 151us/step - loss: 0.7812\n",
      "Epoch 36/100\n",
      "90/90 [==============================] - 0s 162us/step - loss: 0.7765\n",
      "Epoch 37/100\n",
      "90/90 [==============================] - 0s 166us/step - loss: 0.7716\n",
      "Epoch 38/100\n",
      "90/90 [==============================] - 0s 162us/step - loss: 0.7668\n",
      "Epoch 39/100\n",
      "90/90 [==============================] - 0s 154us/step - loss: 0.7622\n",
      "Epoch 40/100\n",
      "90/90 [==============================] - 0s 127us/step - loss: 0.7574\n",
      "Epoch 41/100\n",
      "90/90 [==============================] - 0s 130us/step - loss: 0.7528\n",
      "Epoch 42/100\n",
      "90/90 [==============================] - 0s 159us/step - loss: 0.7483\n",
      "Epoch 43/100\n",
      "90/90 [==============================] - 0s 157us/step - loss: 0.7439\n",
      "Epoch 44/100\n",
      "90/90 [==============================] - 0s 151us/step - loss: 0.7394\n",
      "Epoch 45/100\n",
      "90/90 [==============================] - 0s 145us/step - loss: 0.7352\n",
      "Epoch 46/100\n",
      "90/90 [==============================] - 0s 168us/step - loss: 0.7307\n",
      "Epoch 47/100\n",
      "90/90 [==============================] - 0s 145us/step - loss: 0.7264\n",
      "Epoch 48/100\n",
      "90/90 [==============================] - 0s 128us/step - loss: 0.7222\n",
      "Epoch 49/100\n",
      "90/90 [==============================] - 0s 150us/step - loss: 0.7181\n",
      "Epoch 50/100\n",
      "90/90 [==============================] - 0s 150us/step - loss: 0.7140\n",
      "Epoch 51/100\n",
      "90/90 [==============================] - 0s 139us/step - loss: 0.7099\n",
      "Epoch 52/100\n",
      "90/90 [==============================] - 0s 170us/step - loss: 0.7059\n",
      "Epoch 53/100\n",
      "90/90 [==============================] - 0s 149us/step - loss: 0.7020\n",
      "Epoch 54/100\n",
      "90/90 [==============================] - 0s 133us/step - loss: 0.6981\n",
      "Epoch 55/100\n",
      "90/90 [==============================] - 0s 157us/step - loss: 0.6943\n",
      "Epoch 56/100\n",
      "90/90 [==============================] - 0s 150us/step - loss: 0.6906\n",
      "Epoch 57/100\n",
      "90/90 [==============================] - 0s 141us/step - loss: 0.6868\n",
      "Epoch 58/100\n",
      "90/90 [==============================] - 0s 138us/step - loss: 0.6832\n",
      "Epoch 59/100\n",
      "90/90 [==============================] - 0s 136us/step - loss: 0.6797\n",
      "Epoch 60/100\n",
      "90/90 [==============================] - 0s 151us/step - loss: 0.6761\n",
      "Epoch 61/100\n",
      "90/90 [==============================] - 0s 145us/step - loss: 0.6727\n",
      "Epoch 62/100\n",
      "90/90 [==============================] - 0s 144us/step - loss: 0.6692\n",
      "Epoch 63/100\n",
      "90/90 [==============================] - 0s 139us/step - loss: 0.6659\n",
      "Epoch 64/100\n",
      "90/90 [==============================] - 0s 160us/step - loss: 0.6626\n",
      "Epoch 65/100\n",
      "90/90 [==============================] - 0s 156us/step - loss: 0.6594\n",
      "Epoch 66/100\n",
      "90/90 [==============================] - 0s 139us/step - loss: 0.6564\n",
      "Epoch 67/100\n",
      "90/90 [==============================] - 0s 145us/step - loss: 0.6531\n",
      "Epoch 68/100\n",
      "90/90 [==============================] - 0s 133us/step - loss: 0.6502\n",
      "Epoch 69/100\n",
      "90/90 [==============================] - 0s 142us/step - loss: 0.6470\n",
      "Epoch 70/100\n",
      "90/90 [==============================] - 0s 126us/step - loss: 0.6441\n",
      "Epoch 71/100\n",
      "90/90 [==============================] - 0s 137us/step - loss: 0.6412\n",
      "Epoch 72/100\n",
      "90/90 [==============================] - 0s 138us/step - loss: 0.6384\n",
      "Epoch 73/100\n",
      "90/90 [==============================] - 0s 139us/step - loss: 0.6356\n",
      "Epoch 74/100\n",
      "90/90 [==============================] - 0s 137us/step - loss: 0.6329\n",
      "Epoch 75/100\n",
      "90/90 [==============================] - 0s 111us/step - loss: 0.6302\n",
      "Epoch 76/100\n",
      "90/90 [==============================] - 0s 111us/step - loss: 0.6277\n",
      "Epoch 77/100\n",
      "90/90 [==============================] - 0s 146us/step - loss: 0.6250\n",
      "Epoch 78/100\n",
      "90/90 [==============================] - 0s 135us/step - loss: 0.6225\n",
      "Epoch 79/100\n",
      "90/90 [==============================] - 0s 109us/step - loss: 0.6200\n",
      "Epoch 80/100\n",
      "90/90 [==============================] - 0s 105us/step - loss: 0.6177\n",
      "Epoch 81/100\n",
      "90/90 [==============================] - 0s 137us/step - loss: 0.6152\n",
      "Epoch 82/100\n",
      "90/90 [==============================] - 0s 124us/step - loss: 0.6129\n",
      "Epoch 83/100\n",
      "90/90 [==============================] - 0s 114us/step - loss: 0.6107\n",
      "Epoch 84/100\n",
      "90/90 [==============================] - 0s 151us/step - loss: 0.6084\n",
      "Epoch 85/100\n",
      "90/90 [==============================] - 0s 140us/step - loss: 0.6065\n",
      "Epoch 86/100\n",
      "90/90 [==============================] - 0s 146us/step - loss: 0.6039\n",
      "Epoch 87/100\n",
      "90/90 [==============================] - 0s 131us/step - loss: 0.6019\n",
      "Epoch 88/100\n",
      "90/90 [==============================] - 0s 129us/step - loss: 0.5998\n",
      "Epoch 89/100\n",
      "90/90 [==============================] - 0s 154us/step - loss: 0.5978\n",
      "Epoch 90/100\n",
      "90/90 [==============================] - 0s 159us/step - loss: 0.5958\n",
      "Epoch 91/100\n",
      "90/90 [==============================] - 0s 142us/step - loss: 0.5939\n",
      "Epoch 92/100\n",
      "90/90 [==============================] - 0s 169us/step - loss: 0.5920\n",
      "Epoch 93/100\n",
      "90/90 [==============================] - 0s 154us/step - loss: 0.5901\n",
      "Epoch 94/100\n",
      "90/90 [==============================] - 0s 139us/step - loss: 0.5883\n",
      "Epoch 95/100\n",
      "90/90 [==============================] - 0s 147us/step - loss: 0.5866\n",
      "Epoch 96/100\n",
      "90/90 [==============================] - 0s 145us/step - loss: 0.5848\n",
      "Epoch 97/100\n",
      "90/90 [==============================] - 0s 154us/step - loss: 0.5831\n",
      "Epoch 98/100\n",
      "90/90 [==============================] - 0s 159us/step - loss: 0.5815\n",
      "Epoch 99/100\n"
     ]
    },
    {
     "name": "stdout",
     "output_type": "stream",
     "text": [
      "90/90 [==============================] - 0s 147us/step - loss: 0.5799\n",
      "Epoch 100/100\n",
      "90/90 [==============================] - 0s 175us/step - loss: 0.5783\n"
     ]
    }
   ],
   "source": [
    "history = model.fit(x_train, y_train, epochs=100, batch_size=16, verbose=1)"
   ]
  },
  {
   "cell_type": "code",
   "execution_count": 169,
   "metadata": {},
   "outputs": [
    {
     "data": {
      "image/png": "[encoded data removed]",
      "text/plain": [
       "<Figure size 936x576 with 1 Axes>"
      ]
     },
     "metadata": {
      "needs_background": "light"
     },
     "output_type": "display_data"
    }
   ],
   "source": [
    "def plot_history(history, figsize=(13, 8), color='purple', s=50, alpha=0.5):\n",
    "    plt.figure(figsize=figsize)\n",
    "    plt.grid(zorder=0, linestyle='--')\n",
    "    plt.scatter(history.epoch, history.history[\"loss\"], c=color, s=s, alpha=alpha)\n",
    "    plt.xlabel(\"epochs\")\n",
    "    plt.ylabel(\"loss\")\n",
    "    plt.show()\n",
    "    \n",
    "    \n",
    "plot_history(history)"
   ]
  },
  {
   "cell_type": "markdown",
   "metadata": {},
   "source": [
    "# Evaluating the Trained Model"
   ]
  },
  {
   "cell_type": "markdown",
   "metadata": {},
   "source": [
    "We can look at the overall loss from our test data after training the model was trained"
   ]
  },
  {
   "cell_type": "code",
   "execution_count": 170,
   "metadata": {
    "ExecuteTime": {
     "end_time": "2019-06-18T16:18:23.607022Z",
     "start_time": "2019-06-18T16:18:23.453388Z"
    }
   },
   "outputs": [
    {
     "name": "stdout",
     "output_type": "stream",
     "text": [
      "60/60 [==============================] - 1s 10ms/step\n"
     ]
    },
    {
     "data": {
      "text/plain": [
       "0.5493672768274943"
      ]
     },
     "execution_count": 170,
     "metadata": {},
     "output_type": "execute_result"
    }
   ],
   "source": [
    "# Could also just use a batch to evaluate\n",
    "loss_and_metrics = model.evaluate(x_test, y_test)\n",
    "\n",
    "loss_and_metrics"
   ]
  },
  {
   "cell_type": "markdown",
   "metadata": {},
   "source": [
    "We can have predictions (probability the data point is a particular class based on our trained model)"
   ]
  },
  {
   "cell_type": "code",
   "execution_count": 172,
   "metadata": {
    "ExecuteTime": {
     "end_time": "2019-06-18T16:18:23.701142Z",
     "start_time": "2019-06-18T16:18:23.613540Z"
    },
    "scrolled": true
   },
   "outputs": [
    {
     "data": {
      "text/plain": [
       "array([[0.88738054, 0.07999532, 0.03262415],\n",
       "       [0.87563056, 0.08783441, 0.03653514],\n",
       "       [0.05251363, 0.48459393, 0.46289238]], dtype=float32)"
      ]
     },
     "execution_count": 172,
     "metadata": {},
     "output_type": "execute_result"
    }
   ],
   "source": [
    "probs = model.predict(x_test)\n",
    "probs[:3]"
   ]
  },
  {
   "cell_type": "markdown",
   "metadata": {},
   "source": [
    "We want to say what is the predicted class, so we pick just the largest probability for each result"
   ]
  },
  {
   "cell_type": "code",
   "execution_count": 173,
   "metadata": {
    "ExecuteTime": {
     "end_time": "2019-06-18T16:18:23.706830Z",
     "start_time": "2019-06-18T16:18:23.703922Z"
    }
   },
   "outputs": [
    {
     "data": {
      "text/plain": [
       "array([0, 0, 1])"
      ]
     },
     "execution_count": 173,
     "metadata": {},
     "output_type": "execute_result"
    }
   ],
   "source": [
    "predictions = np.argmax(probs, axis=1)\n",
    "\n",
    "predictions[:3]"
   ]
  },
  {
   "cell_type": "code",
   "execution_count": 174,
   "metadata": {
    "ExecuteTime": {
     "end_time": "2019-06-18T16:18:23.715400Z",
     "start_time": "2019-06-18T16:18:23.708557Z"
    }
   },
   "outputs": [
    {
     "data": {
      "text/plain": [
       "array([0.63333333])"
      ]
     },
     "execution_count": 174,
     "metadata": {},
     "output_type": "execute_result"
    }
   ],
   "source": [
    "np.sum(predictions  == np.argmax(y_test, axis=1)) / predictions.shape"
   ]
  },
  {
   "cell_type": "code",
   "execution_count": 175,
   "metadata": {},
   "outputs": [
    {
     "name": "stdout",
     "output_type": "stream",
     "text": [
      "              precision    recall  f1-score   support\n",
      "\n",
      "           0       1.00      0.96      0.98        23\n",
      "           1       0.42      1.00      0.59        16\n",
      "           2       0.00      0.00      0.00        21\n",
      "\n",
      "    accuracy                           0.63        60\n",
      "   macro avg       0.47      0.65      0.52        60\n",
      "weighted avg       0.50      0.63      0.53        60\n",
      "\n"
     ]
    }
   ],
   "source": [
    "report = classification_report(y_test.argmax(axis=1), predictions, labels=[0, 1, 2])\n",
    "print(report)"
   ]
  },
  {
   "cell_type": "markdown",
   "metadata": {},
   "source": [
    "Finally, we can see how accurate our model was by seeing if the predicted classes match the actual labels. Note that this is calculated differently from how the loss is calculated."
   ]
  },
  {
   "cell_type": "markdown",
   "metadata": {},
   "source": [
    "### But Behold!!!! An out of the box RFC comes into the fold! "
   ]
  },
  {
   "cell_type": "code",
   "execution_count": 176,
   "metadata": {},
   "outputs": [],
   "source": [
    "from sklearn.ensemble import RandomForestClassifier"
   ]
  },
  {
   "cell_type": "code",
   "execution_count": 177,
   "metadata": {},
   "outputs": [],
   "source": [
    "clf = RandomForestClassifier()"
   ]
  },
  {
   "cell_type": "code",
   "execution_count": 178,
   "metadata": {},
   "outputs": [
    {
     "name": "stderr",
     "output_type": "stream",
     "text": [
      "/anaconda3/lib/python3.7/site-packages/sklearn/ensemble/forest.py:245: FutureWarning: The default value of n_estimators will change from 10 in version 0.20 to 100 in 0.22.\n",
      "  \"10 in version 0.20 to 100 in 0.22.\", FutureWarning)\n"
     ]
    },
    {
     "data": {
      "text/plain": [
       "RandomForestClassifier(bootstrap=True, class_weight=None, criterion='gini',\n",
       "                       max_depth=None, max_features='auto', max_leaf_nodes=None,\n",
       "                       min_impurity_decrease=0.0, min_impurity_split=None,\n",
       "                       min_samples_leaf=1, min_samples_split=2,\n",
       "                       min_weight_fraction_leaf=0.0, n_estimators=10,\n",
       "                       n_jobs=None, oob_score=False, random_state=None,\n",
       "                       verbose=0, warm_start=False)"
      ]
     },
     "execution_count": 178,
     "metadata": {},
     "output_type": "execute_result"
    }
   ],
   "source": [
    "clf.fit(x_train, y_train)"
   ]
  },
  {
   "cell_type": "code",
   "execution_count": 184,
   "metadata": {},
   "outputs": [
    {
     "data": {
      "text/plain": [
       "0.95"
      ]
     },
     "execution_count": 184,
     "metadata": {},
     "output_type": "execute_result"
    }
   ],
   "source": [
    "clf_preds = clf.predict(x_test)\n",
    "clf.score(x_test, y_test)"
   ]
  },
  {
   "cell_type": "code",
   "execution_count": 185,
   "metadata": {},
   "outputs": [
    {
     "name": "stdout",
     "output_type": "stream",
     "text": [
      "              precision    recall  f1-score   support\n",
      "\n",
      "           0       1.00      1.00      1.00        23\n",
      "           1       0.88      0.94      0.91        16\n",
      "           2       0.95      0.90      0.93        21\n",
      "\n",
      "   micro avg       0.95      0.95      0.95        60\n",
      "   macro avg       0.94      0.95      0.95        60\n",
      "weighted avg       0.95      0.95      0.95        60\n",
      " samples avg       0.95      0.95      0.95        60\n",
      "\n"
     ]
    }
   ],
   "source": [
    "report = classification_report(y_test, clf_preds)\n",
    "print(report)"
   ]
  },
  {
   "cell_type": "markdown",
   "metadata": {},
   "source": [
    "### Let's add another Layer"
   ]
  },
  {
   "cell_type": "code",
   "execution_count": 186,
   "metadata": {},
   "outputs": [
    {
     "name": "stdout",
     "output_type": "stream",
     "text": [
      "_________________________________________________________________\n",
      "Layer (type)                 Output Shape              Param #   \n",
      "=================================================================\n",
      "dense_52 (Dense)             (None, 4)                 20        \n",
      "_________________________________________________________________\n",
      "dense_53 (Dense)             (None, 4)                 20        \n",
      "_________________________________________________________________\n",
      "dense_54 (Dense)             (None, 3)                 15        \n",
      "=================================================================\n",
      "Total params: 55\n",
      "Trainable params: 55\n",
      "Non-trainable params: 0\n",
      "_________________________________________________________________\n"
     ]
    }
   ],
   "source": [
    "### Let's build a new model and add another layer\n",
    "model_mlp = Sequential()\n",
    "\n",
    "# hidden layers\n",
    "model_mlp.add(Dense(input_dim=4, units=4, activation='relu'))\n",
    "model_mlp.add(Dense(units=4, activation='relu'))\n",
    "\n",
    "# classifier layer\n",
    "model_mlp.add(Dense(units=3, activation='softmax'))\n",
    "\n",
    "model_mlp.summary()"
   ]
  },
  {
   "cell_type": "code",
   "execution_count": 187,
   "metadata": {},
   "outputs": [
    {
     "data": {
      "image/png": "[encoded data removed]",
      "text/plain": [
       "<Figure size 936x576 with 1 Axes>"
      ]
     },
     "metadata": {
      "needs_background": "light"
     },
     "output_type": "display_data"
    }
   ],
   "source": [
    "model_mlp.compile(loss=keras.losses.categorical_crossentropy, \n",
    "                  optimizer=optimizers.SGD(lr=0.001, momentum=0.9, nesterov=True))\n",
    "\n",
    "history_mlp = model_mlp.fit(x_train, y_train, epochs=100, batch_size=16, verbose=0)\n",
    "\n",
    "plot_history(history_mlp)"
   ]
  },
  {
   "cell_type": "code",
   "execution_count": 188,
   "metadata": {},
   "outputs": [
    {
     "name": "stdout",
     "output_type": "stream",
     "text": [
      "60/60 [==============================] - 1s 10ms/step\n"
     ]
    },
    {
     "data": {
      "text/plain": [
       "0.5440498232841492"
      ]
     },
     "execution_count": 188,
     "metadata": {},
     "output_type": "execute_result"
    }
   ],
   "source": [
    "loss_and_metrics = model_mlp.evaluate(x_test, y_test)\n",
    "\n",
    "loss_and_metrics"
   ]
  },
  {
   "cell_type": "code",
   "execution_count": 189,
   "metadata": {},
   "outputs": [
    {
     "data": {
      "text/plain": [
       "array([0.65])"
      ]
     },
     "execution_count": 189,
     "metadata": {},
     "output_type": "execute_result"
    }
   ],
   "source": [
    "probs = model_mlp.predict(x_test)\n",
    "predictions = np.argmax(probs, axis=1)\n",
    "np.sum(predictions  == np.argmax(y_test, axis=1)) / predictions.shape"
   ]
  },
  {
   "cell_type": "code",
   "execution_count": 190,
   "metadata": {},
   "outputs": [
    {
     "name": "stdout",
     "output_type": "stream",
     "text": [
      "              precision    recall  f1-score   support\n",
      "\n",
      "           0       1.00      1.00      1.00        23\n",
      "           1       0.43      1.00      0.60        16\n",
      "           2       0.00      0.00      0.00        21\n",
      "\n",
      "    accuracy                           0.65        60\n",
      "   macro avg       0.48      0.67      0.53        60\n",
      "weighted avg       0.50      0.65      0.54        60\n",
      "\n"
     ]
    },
    {
     "name": "stderr",
     "output_type": "stream",
     "text": [
      "/anaconda3/lib/python3.7/site-packages/sklearn/metrics/classification.py:1437: UndefinedMetricWarning: Precision and F-score are ill-defined and being set to 0.0 in labels with no predicted samples.\n",
      "  'precision', 'predicted', average, warn_for)\n"
     ]
    }
   ],
   "source": [
    "report = classification_report(y_test.argmax(axis=1), predictions, labels=[0, 1, 2])\n",
    "print(report)"
   ]
  },
  {
   "cell_type": "markdown",
   "metadata": {},
   "source": [
    "#### Add another layer and plot the loss"
   ]
  },
  {
   "cell_type": "code",
   "execution_count": null,
   "metadata": {},
   "outputs": [],
   "source": [
    "# Build your model\n",
    "\n",
    "\n",
    "# Compile it\n",
    "\n",
    "\n",
    "# fit your model using 100 epochs\n"
   ]
  },
  {
   "cell_type": "code",
   "execution_count": null,
   "metadata": {},
   "outputs": [],
   "source": [
    "# Evaluate your model\n"
   ]
  },
  {
   "cell_type": "code",
   "execution_count": null,
   "metadata": {},
   "outputs": [],
   "source": [
    "# Plot your loss\n"
   ]
  }
 ],
 "metadata": {
  "kernelspec": {
   "display_name": "Python 3",
   "language": "python",
   "name": "python3"
  },
  "language_info": {
   "codemirror_mode": {
    "name": "ipython",
    "version": 3
   },
   "file_extension": ".py",
   "mimetype": "text/x-python",
   "name": "python",
   "nbconvert_exporter": "python",
   "pygments_lexer": "ipython3",
   "version": "3.7.3"
  },
  "toc": {
   "base_numbering": 1,
   "nav_menu": {},
   "number_sections": true,
   "sideBar": true,
   "skip_h1_title": false,
   "title_cell": "Table of Contents",
   "title_sidebar": "Contents",
   "toc_cell": false,
   "toc_position": {},
   "toc_section_display": true,
   "toc_window_display": false
  },
  "varInspector": {
   "cols": {
    "lenName": 16,
    "lenType": 16,
    "lenVar": 40
   },
   "kernels_config": {
    "python": {
     "delete_cmd_postfix": "",
     "delete_cmd_prefix": "del ",
     "library": "var_list.py",
     "varRefreshCmd": "print(var_dic_list())"
    },
    "r": {
     "delete_cmd_postfix": ") ",
     "delete_cmd_prefix": "rm(",
     "library": "var_list.r",
     "varRefreshCmd": "cat(var_dic_list()) "
    }
   },
   "types_to_exclude": [
    "module",
    "function",
    "builtin_function_or_method",
    "instance",
    "_Feature"
   ],
   "window_display": false
  }
 },
 "nbformat": 4,
 "nbformat_minor": 2
}
