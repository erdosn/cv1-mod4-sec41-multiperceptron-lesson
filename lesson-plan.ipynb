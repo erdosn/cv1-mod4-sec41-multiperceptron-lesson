{
 "cells": [
  {
   "cell_type": "markdown",
   "metadata": {},
   "source": [
    "Most of this code can be found at <a href='https://keras.io'>keras.io</a>"
   ]
  },
  {
   "cell_type": "markdown",
   "metadata": {},
   "source": [
    "## Questions\n",
    "...\n",
    "\n",
    "Multilayer Perceptron: Neural Network with multiple hidden layers\n",
    "\n",
    "\n",
    "## Objectives \n",
    "YWBAT \n",
    "- build a neural network using keras\n",
    "- compare models based on their depth\n",
    "- *choose the best optimizer for a model*"
   ]
  },
  {
   "cell_type": "markdown",
   "metadata": {},
   "source": [
    "### Why do we use NNs?\n",
    "- identify combinations of features and learn combinations of features\n",
    "- reduces the need for domain expertise"
   ]
  },
  {
   "cell_type": "markdown",
   "metadata": {},
   "source": [
    "### Outline\n",
    "* Import data\n",
    "* Build single layer model\n",
    "* Build 2 layer model\n",
    "* Students build their own deep learning model\n",
    "* evaluate models, tune optimizers"
   ]
  },
  {
   "cell_type": "markdown",
   "metadata": {},
   "source": [
    "# Useful Imports"
   ]
  },
  {
   "cell_type": "code",
   "execution_count": 197,
   "metadata": {
    "ExecuteTime": {
     "end_time": "2019-06-18T16:18:12.782645Z",
     "start_time": "2019-06-18T16:18:11.185732Z"
    }
   },
   "outputs": [],
   "source": [
    "import keras\n",
    "import numpy as np\n",
    "import pandas as pd\n",
    "\n",
    "from sklearn.metrics import classification_report\n",
    "\n",
    "import matplotlib.pyplot as plt"
   ]
  },
  {
   "cell_type": "code",
   "execution_count": 198,
   "metadata": {
    "ExecuteTime": {
     "end_time": "2019-06-18T16:18:13.087187Z",
     "start_time": "2019-06-18T16:18:13.082385Z"
    }
   },
   "outputs": [],
   "source": [
    "from keras import models\n",
    "from keras import layers\n",
    "from keras import optimizers"
   ]
  },
  {
   "cell_type": "markdown",
   "metadata": {},
   "source": [
    "# Obtaining Dataset & Train-Test Split"
   ]
  },
  {
   "cell_type": "markdown",
   "metadata": {},
   "source": [
    "Nothing different from training other models"
   ]
  },
  {
   "cell_type": "code",
   "execution_count": 199,
   "metadata": {
    "ExecuteTime": {
     "end_time": "2019-06-18T16:18:13.048684Z",
     "start_time": "2019-06-18T16:18:12.784941Z"
    }
   },
   "outputs": [
    {
     "name": "stderr",
     "output_type": "stream",
     "text": [
      "/anaconda3/lib/python3.7/site-packages/sklearn/preprocessing/_encoders.py:415: FutureWarning: The handling of integer data will change in version 0.22. Currently, the categories are determined based on the range [0, max(values)], while in the future they will be determined based on the unique values.\n",
      "If you want the future behaviour and silence this warning, you can specify \"categories='auto'\".\n",
      "In case you used a LabelEncoder before this OneHotEncoder to convert the categories to integers, then you can now use the OneHotEncoder directly.\n",
      "  warnings.warn(msg, FutureWarning)\n"
     ]
    }
   ],
   "source": [
    "from sklearn.datasets import load_iris\n",
    "from sklearn.model_selection import train_test_split\n",
    "from sklearn.preprocessing import OneHotEncoder, StandardScaler\n",
    "\n",
    "iris = load_iris()\n",
    "x = iris['data']\n",
    "y = iris['target']\n",
    "names = iris['target_names']\n",
    "feature_names = iris['feature_names']\n",
    "\n",
    "# One hot encoding\n",
    "enc = OneHotEncoder()\n",
    "y = enc.fit_transform(y[:, np.newaxis]).toarray()\n",
    "\n",
    "# Scale data to have mean 0 and variance 1 \n",
    "# which is importance for convergence of the neural network\n",
    "scaler = StandardScaler()\n",
    "x_scaled = scaler.fit_transform(x)\n",
    "\n",
    "# Split the data set into training and testing\n",
    "x_train, x_test, y_train, y_test = train_test_split(x_scaled, y, test_size=0.4, random_state=2)"
   ]
  },
  {
   "cell_type": "code",
   "execution_count": 200,
   "metadata": {},
   "outputs": [
    {
     "data": {
      "text/plain": [
       "'\\nAttribute Information:\\n\\nfLength: continuous # major axis of ellipse [mm]\\nfWidth: continuous # minor axis of ellipse [mm]\\nfSize: continuous # 10-log of sum of content of all pixels [in #phot]\\nfConc: continuous # ratio of sum of two highest pixels over fSize [ratio]\\nfConc1: continuous # ratio of highest pixel over fSize [ratio]\\nfAsym: continuous # distance from highest pixel to center, projected onto major axis [mm]\\nfM3Long: continuous # 3rd root of third moment along major axis [mm]\\nfM3Trans: continuous # 3rd root of third moment along minor axis [mm]\\nfAlpha: continuous # angle of major axis with vector to origin [deg]\\nfDist: continuous # distance from origin to center of ellipse [mm]\\nclass: g,h # gamma (signal), hadron (background)\\n'"
      ]
     },
     "execution_count": 200,
     "metadata": {},
     "output_type": "execute_result"
    }
   ],
   "source": [
    "\"\"\"\n",
    "Attribute Information:\n",
    "\n",
    "fLength: continuous # major axis of ellipse [mm]\n",
    "fWidth: continuous # minor axis of ellipse [mm]\n",
    "fSize: continuous # 10-log of sum of content of all pixels [in #phot]\n",
    "fConc: continuous # ratio of sum of two highest pixels over fSize [ratio]\n",
    "fConc1: continuous # ratio of highest pixel over fSize [ratio]\n",
    "fAsym: continuous # distance from highest pixel to center, projected onto major axis [mm]\n",
    "fM3Long: continuous # 3rd root of third moment along major axis [mm]\n",
    "fM3Trans: continuous # 3rd root of third moment along minor axis [mm]\n",
    "fAlpha: continuous # angle of major axis with vector to origin [deg]\n",
    "fDist: continuous # distance from origin to center of ellipse [mm]\n",
    "class: g,h # gamma (signal), hadron (background)\n",
    "\"\"\""
   ]
  },
  {
   "cell_type": "code",
   "execution_count": 201,
   "metadata": {},
   "outputs": [
    {
     "data": {
      "text/html": [
       "<div>\n",
       "<style scoped>\n",
       "    .dataframe tbody tr th:only-of-type {\n",
       "        vertical-align: middle;\n",
       "    }\n",
       "\n",
       "    .dataframe tbody tr th {\n",
       "        vertical-align: top;\n",
       "    }\n",
       "\n",
       "    .dataframe thead th {\n",
       "        text-align: right;\n",
       "    }\n",
       "</style>\n",
       "<table border=\"1\" class=\"dataframe\">\n",
       "  <thead>\n",
       "    <tr style=\"text-align: right;\">\n",
       "      <th></th>\n",
       "      <th>ID</th>\n",
       "      <th>fLength:</th>\n",
       "      <th>fWidth:</th>\n",
       "      <th>fSize:</th>\n",
       "      <th>fConc:</th>\n",
       "      <th>fConc1:</th>\n",
       "      <th>fAsym:</th>\n",
       "      <th>fM3Long:</th>\n",
       "      <th>fM3Trans:</th>\n",
       "      <th>fAlpha:</th>\n",
       "      <th>fDist:</th>\n",
       "      <th>class:</th>\n",
       "    </tr>\n",
       "  </thead>\n",
       "  <tbody>\n",
       "    <tr>\n",
       "      <th>0</th>\n",
       "      <td>1</td>\n",
       "      <td>28.7967</td>\n",
       "      <td>16.0021</td>\n",
       "      <td>2.6449</td>\n",
       "      <td>0.3918</td>\n",
       "      <td>0.1982</td>\n",
       "      <td>27.7004</td>\n",
       "      <td>22.0110</td>\n",
       "      <td>-8.2027</td>\n",
       "      <td>40.0920</td>\n",
       "      <td>81.8828</td>\n",
       "      <td>g</td>\n",
       "    </tr>\n",
       "    <tr>\n",
       "      <th>1</th>\n",
       "      <td>2</td>\n",
       "      <td>31.6036</td>\n",
       "      <td>11.7235</td>\n",
       "      <td>2.5185</td>\n",
       "      <td>0.5303</td>\n",
       "      <td>0.3773</td>\n",
       "      <td>26.2722</td>\n",
       "      <td>23.8238</td>\n",
       "      <td>-9.9574</td>\n",
       "      <td>6.3609</td>\n",
       "      <td>205.2610</td>\n",
       "      <td>g</td>\n",
       "    </tr>\n",
       "  </tbody>\n",
       "</table>\n",
       "</div>"
      ],
      "text/plain": [
       "   ID  fLength:  fWidth:  fSize:  fConc:  fConc1:   fAsym:  fM3Long:  \\\n",
       "0   1   28.7967  16.0021  2.6449  0.3918   0.1982  27.7004   22.0110   \n",
       "1   2   31.6036  11.7235  2.5185  0.5303   0.3773  26.2722   23.8238   \n",
       "\n",
       "   fM3Trans:  fAlpha:    fDist: class:  \n",
       "0    -8.2027  40.0920   81.8828      g  \n",
       "1    -9.9574   6.3609  205.2610      g  "
      ]
     },
     "metadata": {},
     "output_type": "display_data"
    },
    {
     "data": {
      "text/html": [
       "<div>\n",
       "<style scoped>\n",
       "    .dataframe tbody tr th:only-of-type {\n",
       "        vertical-align: middle;\n",
       "    }\n",
       "\n",
       "    .dataframe tbody tr th {\n",
       "        vertical-align: top;\n",
       "    }\n",
       "\n",
       "    .dataframe thead th {\n",
       "        text-align: right;\n",
       "    }\n",
       "</style>\n",
       "<table border=\"1\" class=\"dataframe\">\n",
       "  <thead>\n",
       "    <tr style=\"text-align: right;\">\n",
       "      <th></th>\n",
       "      <th>fLength:</th>\n",
       "      <th>fWidth:</th>\n",
       "      <th>fSize:</th>\n",
       "      <th>fConc:</th>\n",
       "      <th>fConc1:</th>\n",
       "      <th>fAsym:</th>\n",
       "      <th>fM3Long:</th>\n",
       "      <th>fM3Trans:</th>\n",
       "      <th>fAlpha:</th>\n",
       "      <th>fDist:</th>\n",
       "      <th>class:</th>\n",
       "    </tr>\n",
       "  </thead>\n",
       "  <tbody>\n",
       "    <tr>\n",
       "      <th>0</th>\n",
       "      <td>28.7967</td>\n",
       "      <td>16.0021</td>\n",
       "      <td>2.6449</td>\n",
       "      <td>0.3918</td>\n",
       "      <td>0.1982</td>\n",
       "      <td>27.7004</td>\n",
       "      <td>22.0110</td>\n",
       "      <td>-8.2027</td>\n",
       "      <td>40.0920</td>\n",
       "      <td>81.8828</td>\n",
       "      <td>g</td>\n",
       "    </tr>\n",
       "    <tr>\n",
       "      <th>1</th>\n",
       "      <td>31.6036</td>\n",
       "      <td>11.7235</td>\n",
       "      <td>2.5185</td>\n",
       "      <td>0.5303</td>\n",
       "      <td>0.3773</td>\n",
       "      <td>26.2722</td>\n",
       "      <td>23.8238</td>\n",
       "      <td>-9.9574</td>\n",
       "      <td>6.3609</td>\n",
       "      <td>205.2610</td>\n",
       "      <td>g</td>\n",
       "    </tr>\n",
       "  </tbody>\n",
       "</table>\n",
       "</div>"
      ],
      "text/plain": [
       "   fLength:  fWidth:  fSize:  fConc:  fConc1:   fAsym:  fM3Long:  fM3Trans:  \\\n",
       "0   28.7967  16.0021  2.6449  0.3918   0.1982  27.7004   22.0110    -8.2027   \n",
       "1   31.6036  11.7235  2.5185  0.5303   0.3773  26.2722   23.8238    -9.9574   \n",
       "\n",
       "   fAlpha:    fDist: class:  \n",
       "0  40.0920   81.8828      g  \n",
       "1   6.3609  205.2610      g  "
      ]
     },
     "execution_count": 201,
     "metadata": {},
     "output_type": "execute_result"
    }
   ],
   "source": [
    "### Let's load in some custom data\n",
    "df = pd.read_csv(\"MagicTelescope.csv\")\n",
    "display(df.head(2))\n",
    "df.drop(\"ID\", axis=1, inplace=True)\n",
    "df.head(2)"
   ]
  },
  {
   "cell_type": "code",
   "execution_count": 209,
   "metadata": {},
   "outputs": [
    {
     "data": {
      "text/plain": [
       "(19020,)"
      ]
     },
     "execution_count": 209,
     "metadata": {},
     "output_type": "execute_result"
    }
   ],
   "source": [
    "X, y = df.drop('class:', axis=1), df[\"class:\"]\n",
    "y.shape"
   ]
  },
  {
   "cell_type": "code",
   "execution_count": 210,
   "metadata": {},
   "outputs": [
    {
     "data": {
      "text/plain": [
       "((19020, 2), array([[1., 0.],\n",
       "        [1., 0.],\n",
       "        [1., 0.],\n",
       "        ...,\n",
       "        [0., 1.],\n",
       "        [0., 1.],\n",
       "        [0., 1.]]))"
      ]
     },
     "execution_count": 210,
     "metadata": {},
     "output_type": "execute_result"
    }
   ],
   "source": [
    "enc = OneHotEncoder()\n",
    "y = enc.fit_transform(y[:, np.newaxis]).toarray()\n",
    "y.shape, y"
   ]
  },
  {
   "cell_type": "code",
   "execution_count": 212,
   "metadata": {},
   "outputs": [],
   "source": [
    "scaler = StandardScaler()\n",
    "x_scaled = scaler.fit_transform(X)\n",
    "\n",
    "# Split the data set into training and testing\n",
    "x_train, x_test, y_train, y_test = train_test_split(x_scaled, y, test_size=0.4, random_state=2)"
   ]
  },
  {
   "cell_type": "code",
   "execution_count": 213,
   "metadata": {},
   "outputs": [
    {
     "data": {
      "text/plain": [
       "((11412, 10), (7608, 10), (11412, 2), (7608, 2))"
      ]
     },
     "execution_count": 213,
     "metadata": {},
     "output_type": "execute_result"
    }
   ],
   "source": [
    "x_train.shape, x_test.shape, y_train.shape, y_test.shape "
   ]
  },
  {
   "cell_type": "markdown",
   "metadata": {},
   "source": [
    "# Creating a Neural Network"
   ]
  },
  {
   "cell_type": "markdown",
   "metadata": {},
   "source": [
    "`Sequential` is referring to the neural networks we've observed. There are other neural network models that will go beyond this class."
   ]
  },
  {
   "cell_type": "code",
   "execution_count": 214,
   "metadata": {
    "ExecuteTime": {
     "end_time": "2019-06-18T16:18:13.126356Z",
     "start_time": "2019-06-18T16:18:13.090188Z"
    }
   },
   "outputs": [],
   "source": [
    "from keras.models import Sequential # this just means we go through our network in order of our layers\n",
    "\n",
    "model = Sequential()"
   ]
  },
  {
   "cell_type": "markdown",
   "metadata": {},
   "source": [
    "The actual network; we can decide how many layers & nodes for each layer here as well as other hyperparameters like the activation function."
   ]
  },
  {
   "cell_type": "code",
   "execution_count": 220,
   "metadata": {
    "ExecuteTime": {
     "end_time": "2019-06-18T19:28:01.843032Z",
     "start_time": "2019-06-18T19:27:59.181321Z"
    }
   },
   "outputs": [],
   "source": [
    "from keras.layers import Dense\n",
    "\n",
    "model = Sequential()\n",
    "\n",
    "# first hidden layer\n",
    "model.add(Dense(units=32, activation='relu', input_dim=10)) \n",
    "\n",
    "# output layer\n",
    "model.add(Dense(units=2, activation='softmax'))"
   ]
  },
  {
   "cell_type": "code",
   "execution_count": 221,
   "metadata": {},
   "outputs": [
    {
     "name": "stdout",
     "output_type": "stream",
     "text": [
      "_________________________________________________________________\n",
      "Layer (type)                 Output Shape              Param #   \n",
      "=================================================================\n",
      "dense_59 (Dense)             (None, 32)                352       \n",
      "_________________________________________________________________\n",
      "dense_60 (Dense)             (None, 2)                 66        \n",
      "=================================================================\n",
      "Total params: 418\n",
      "Trainable params: 418\n",
      "Non-trainable params: 0\n",
      "_________________________________________________________________\n"
     ]
    }
   ],
   "source": [
    "model.summary()"
   ]
  },
  {
   "cell_type": "markdown",
   "metadata": {},
   "source": [
    "Compile the model to a form that the computer can more easily work with"
   ]
  },
  {
   "cell_type": "code",
   "execution_count": 222,
   "metadata": {
    "ExecuteTime": {
     "end_time": "2019-06-18T16:18:13.223984Z",
     "start_time": "2019-06-18T16:18:13.187420Z"
    }
   },
   "outputs": [],
   "source": [
    "# gradient descent with momentum as our optimizer\n",
    "model_optimizer = optimizers.SGD(lr=0.001, momentum=0.9, nesterov=True)\n",
    "\n",
    "model.compile(loss=keras.losses.categorical_crossentropy, \n",
    "              optimizer=model_optimizer)"
   ]
  },
  {
   "cell_type": "markdown",
   "metadata": {},
   "source": [
    "# Using the Model"
   ]
  },
  {
   "cell_type": "markdown",
   "metadata": {},
   "source": [
    "Using the model structure, we do sequences of feedfoward and then backpropagation to adjust the weights and biases (training/fitting)"
   ]
  },
  {
   "cell_type": "code",
   "execution_count": 224,
   "metadata": {
    "ExecuteTime": {
     "end_time": "2019-06-18T16:18:23.443468Z",
     "start_time": "2019-06-18T16:18:13.227101Z"
    },
    "scrolled": false
   },
   "outputs": [
    {
     "name": "stdout",
     "output_type": "stream",
     "text": [
      "Epoch 1/200\n",
      "11412/11412 [==============================] - 3s 303us/step - loss: 0.5710\n",
      "Epoch 2/200\n",
      "11412/11412 [==============================] - 1s 71us/step - loss: 0.4466: 0s - loss: 0.44 - ETA: 0s - loss: 0.44 - ETA: 0s - loss: 0.447\n",
      "Epoch 3/200\n",
      "11412/11412 [==============================] - 1s 66us/step - loss: 0.4187\n",
      "Epoch 4/200\n",
      "11412/11412 [==============================] - 1s 68us/step - loss: 0.4043: 0s - lo\n",
      "Epoch 5/200\n",
      "11412/11412 [==============================] - 1s 77us/step - loss: 0.3947\n",
      "Epoch 6/200\n",
      "11412/11412 [==============================] - 1s 80us/step - loss: 0.3875: 0s - loss: 0.38\n",
      "Epoch 7/200\n",
      "11412/11412 [==============================] - 1s 80us/step - loss: 0.3817: 0s - loss: 0.374 - ETA: 0s - loss: \n",
      "Epoch 8/200\n",
      "11412/11412 [==============================] - 1s 75us/step - loss: 0.3768\n",
      "Epoch 9/200\n",
      "11412/11412 [==============================] - 1s 74us/step - loss: 0.3730\n",
      "Epoch 10/200\n",
      "11412/11412 [==============================] - 1s 80us/step - loss: 0.3693\n",
      "Epoch 11/200\n",
      "11412/11412 [==============================] - 1s 80us/step - loss: 0.3663\n",
      "Epoch 12/200\n",
      "11412/11412 [==============================] - 1s 89us/step - loss: 0.3631\n",
      "Epoch 13/200\n",
      "11412/11412 [==============================] - 1s 77us/step - loss: 0.3605\n",
      "Epoch 14/200\n",
      "11412/11412 [==============================] - 1s 71us/step - loss: 0.3581: 0s - lo\n",
      "Epoch 15/200\n",
      "11412/11412 [==============================] - 1s 66us/step - loss: 0.3558\n",
      "Epoch 16/200\n",
      "11412/11412 [==============================] - 1s 59us/step - loss: 0.3536\n",
      "Epoch 17/200\n",
      "11412/11412 [==============================] - 1s 64us/step - loss: 0.3516\n",
      "Epoch 18/200\n",
      "11412/11412 [==============================] - 1s 68us/step - loss: 0.3498\n",
      "Epoch 19/200\n",
      "11412/11412 [==============================] - ETA: 0s - loss: 0.347 - 1s 80us/step - loss: 0.3480\n",
      "Epoch 20/200\n",
      "11412/11412 [==============================] - 1s 95us/step - loss: 0.3463\n",
      "Epoch 21/200\n",
      "11412/11412 [==============================] - 1s 83us/step - loss: 0.3445: 0s - \n",
      "Epoch 22/200\n",
      "11412/11412 [==============================] - 1s 75us/step - loss: 0.3432: 0s - \n",
      "Epoch 23/200\n",
      "11412/11412 [==============================] - 1s 86us/step - loss: 0.3416\n",
      "Epoch 24/200\n",
      "11412/11412 [==============================] - 1s 78us/step - loss: 0.3404\n",
      "Epoch 25/200\n",
      "11412/11412 [==============================] - 1s 79us/step - loss: 0.3392\n",
      "Epoch 26/200\n",
      "11412/11412 [==============================] - 1s 74us/step - loss: 0.3380\n",
      "Epoch 27/200\n",
      "11412/11412 [==============================] - 1s 70us/step - loss: 0.3371\n",
      "Epoch 28/200\n",
      "11412/11412 [==============================] - 1s 72us/step - loss: 0.3362\n",
      "Epoch 29/200\n",
      "11412/11412 [==============================] - 1s 78us/step - loss: 0.3351: 0s - loss: 0.335\n",
      "Epoch 30/200\n",
      "11412/11412 [==============================] - 1s 74us/step - loss: 0.3342\n",
      "Epoch 31/200\n",
      "11412/11412 [==============================] - 1s 81us/step - loss: 0.3336\n",
      "Epoch 32/200\n",
      "11412/11412 [==============================] - 1s 84us/step - loss: 0.3329\n",
      "Epoch 33/200\n",
      "11412/11412 [==============================] - 1s 84us/step - loss: 0.3322\n",
      "Epoch 34/200\n",
      "11412/11412 [==============================] - 1s 73us/step - loss: 0.3315\n",
      "Epoch 35/200\n",
      "11412/11412 [==============================] - 1s 70us/step - loss: 0.3310\n",
      "Epoch 36/200\n",
      "11412/11412 [==============================] - 1s 92us/step - loss: 0.3305\n",
      "Epoch 37/200\n",
      "11412/11412 [==============================] - 1s 87us/step - loss: 0.3298\n",
      "Epoch 38/200\n",
      "11412/11412 [==============================] - 1s 82us/step - loss: 0.3291\n",
      "Epoch 39/200\n",
      "11412/11412 [==============================] - 1s 74us/step - loss: 0.3287\n",
      "Epoch 40/200\n",
      "11412/11412 [==============================] - 1s 78us/step - loss: 0.3282\n",
      "Epoch 41/200\n",
      "11412/11412 [==============================] - 1s 79us/step - loss: 0.3277: 0s - loss: 0\n",
      "Epoch 42/200\n",
      "11412/11412 [==============================] - 1s 73us/step - loss: 0.3272\n",
      "Epoch 43/200\n",
      "11412/11412 [==============================] - 1s 73us/step - loss: 0.3267\n",
      "Epoch 44/200\n",
      "11412/11412 [==============================] - 1s 73us/step - loss: 0.3262\n",
      "Epoch 45/200\n",
      "11412/11412 [==============================] - 1s 78us/step - loss: 0.3258\n",
      "Epoch 46/200\n",
      "11412/11412 [==============================] - 1s 81us/step - loss: 0.3251\n",
      "Epoch 47/200\n",
      "11412/11412 [==============================] - 1s 83us/step - loss: 0.3251\n",
      "Epoch 48/200\n",
      "11412/11412 [==============================] - 1s 84us/step - loss: 0.3247\n",
      "Epoch 49/200\n",
      "11412/11412 [==============================] - 1s 85us/step - loss: 0.3241\n",
      "Epoch 50/200\n",
      "11412/11412 [==============================] - 1s 80us/step - loss: 0.3239\n",
      "Epoch 51/200\n",
      "11412/11412 [==============================] - 1s 83us/step - loss: 0.3233: 0s - l\n",
      "Epoch 52/200\n",
      "11412/11412 [==============================] - 1s 76us/step - loss: 0.3230\n",
      "Epoch 53/200\n",
      "11412/11412 [==============================] - 1s 79us/step - loss: 0.3225\n",
      "Epoch 54/200\n",
      "11412/11412 [==============================] - 1s 71us/step - loss: 0.3224\n",
      "Epoch 55/200\n",
      "11412/11412 [==============================] - 1s 77us/step - loss: 0.3218: 0s - loss:\n",
      "Epoch 56/200\n",
      "11412/11412 [==============================] - 1s 75us/step - loss: 0.3214\n",
      "Epoch 57/200\n",
      "11412/11412 [==============================] - 1s 79us/step - loss: 0.3210\n",
      "Epoch 58/200\n",
      "11412/11412 [==============================] - 1s 80us/step - loss: 0.3208: 0s - loss:\n",
      "Epoch 59/200\n",
      "11412/11412 [==============================] - 1s 77us/step - loss: 0.3205\n",
      "Epoch 60/200\n",
      "11412/11412 [==============================] - 1s 79us/step - loss: 0.3200: 0s - loss: \n",
      "Epoch 61/200\n",
      "11412/11412 [==============================] - 1s 73us/step - loss: 0.3198\n",
      "Epoch 62/200\n",
      "11412/11412 [==============================] - 1s 73us/step - loss: 0.3195\n",
      "Epoch 63/200\n",
      "11412/11412 [==============================] - 1s 71us/step - loss: 0.3192\n",
      "Epoch 64/200\n",
      "11412/11412 [==============================] - 1s 69us/step - loss: 0.3189\n",
      "Epoch 65/200\n",
      "11412/11412 [==============================] - 1s 81us/step - loss: 0.3184\n",
      "Epoch 66/200\n",
      "11412/11412 [==============================] - 1s 75us/step - loss: 0.3184\n",
      "Epoch 67/200\n",
      "11412/11412 [==============================] - 1s 70us/step - loss: 0.3177\n",
      "Epoch 68/200\n",
      "11412/11412 [==============================] - 1s 73us/step - loss: 0.3171\n",
      "Epoch 69/200\n",
      "11412/11412 [==============================] - 1s 78us/step - loss: 0.3172\n",
      "Epoch 70/200\n",
      "11412/11412 [==============================] - 1s 79us/step - loss: 0.3169\n",
      "Epoch 71/200\n",
      "11412/11412 [==============================] - 1s 80us/step - loss: 0.3167\n",
      "Epoch 72/200\n",
      "11412/11412 [==============================] - 1s 78us/step - loss: 0.3165: 0s - l\n",
      "Epoch 73/200\n",
      "11412/11412 [==============================] - 1s 76us/step - loss: 0.3160\n",
      "Epoch 74/200\n",
      "11412/11412 [==============================] - 1s 75us/step - loss: 0.3158: 0s - loss: \n",
      "Epoch 75/200\n",
      "11412/11412 [==============================] - 1s 82us/step - loss: 0.3158\n",
      "Epoch 76/200\n",
      "11412/11412 [==============================] - 1s 81us/step - loss: 0.3154\n",
      "Epoch 77/200\n",
      "11412/11412 [==============================] - 1s 105us/step - loss: 0.3149\n",
      "Epoch 78/200\n",
      "11412/11412 [==============================] - 1s 93us/step - loss: 0.3149\n",
      "Epoch 79/200\n",
      "11412/11412 [==============================] - 1s 85us/step - loss: 0.3144: 0s - loss: 0\n",
      "Epoch 80/200\n",
      "11412/11412 [==============================] - 1s 85us/step - loss: 0.3142:\n",
      "Epoch 81/200\n",
      "11412/11412 [==============================] - 1s 80us/step - loss: 0.3137: 0s - lo\n",
      "Epoch 82/200\n",
      "11412/11412 [==============================] - 1s 82us/step - loss: 0.3138\n",
      "Epoch 83/200\n",
      "11412/11412 [==============================] - 1s 76us/step - loss: 0.3133\n",
      "Epoch 84/200\n",
      "11412/11412 [==============================] - 1s 81us/step - loss: 0.3133\n",
      "Epoch 85/200\n",
      "11412/11412 [==============================] - 1s 90us/step - loss: 0.3130\n",
      "Epoch 86/200\n",
      "11412/11412 [==============================] - 1s 91us/step - loss: 0.3130\n",
      "Epoch 87/200\n",
      "11412/11412 [==============================] - 1s 88us/step - loss: 0.3128\n",
      "Epoch 88/200\n",
      "11412/11412 [==============================] - 1s 97us/step - loss: 0.3124\n",
      "Epoch 89/200\n",
      "11412/11412 [==============================] - 1s 82us/step - loss: 0.3121\n",
      "Epoch 90/200\n"
     ]
    },
    {
     "name": "stdout",
     "output_type": "stream",
     "text": [
      "11412/11412 [==============================] - 1s 80us/step - loss: 0.3120\n",
      "Epoch 91/200\n",
      "11412/11412 [==============================] - 1s 78us/step - loss: 0.3118\n",
      "Epoch 92/200\n",
      "11412/11412 [==============================] - 1s 77us/step - loss: 0.3115: 0s - loss: 0.311 - ETA: 0s - los\n",
      "Epoch 93/200\n",
      "11412/11412 [==============================] - 1s 79us/step - loss: 0.3114\n",
      "Epoch 94/200\n",
      "11412/11412 [==============================] - 1s 73us/step - loss: 0.3111\n",
      "Epoch 95/200\n",
      "11412/11412 [==============================] - 1s 78us/step - loss: 0.3106\n",
      "Epoch 96/200\n",
      "11412/11412 [==============================] - 1s 75us/step - loss: 0.3106\n",
      "Epoch 97/200\n",
      "11412/11412 [==============================] - 1s 71us/step - loss: 0.3102\n",
      "Epoch 98/200\n",
      "11412/11412 [==============================] - 1s 78us/step - loss: 0.3098\n",
      "Epoch 99/200\n",
      "11412/11412 [==============================] - 1s 88us/step - loss: 0.3100\n",
      "Epoch 100/200\n",
      "11412/11412 [==============================] - 1s 85us/step - loss: 0.3095: 0s - loss: 0.\n",
      "Epoch 101/200\n",
      "11412/11412 [==============================] - 1s 96us/step - loss: 0.3094: 0s - loss: 0\n",
      "Epoch 102/200\n",
      "11412/11412 [==============================] - 1s 89us/step - loss: 0.3091\n",
      "Epoch 103/200\n",
      "11412/11412 [==============================] - 1s 93us/step - loss: 0.3089\n",
      "Epoch 104/200\n",
      "11412/11412 [==============================] - 1s 79us/step - loss: 0.3086: 0s - loss: 0.2 - ETA: 0s - loss: 0.302 - ETA: 0s - loss: \n",
      "Epoch 105/200\n",
      "11412/11412 [==============================] - 1s 80us/step - loss: 0.3084\n",
      "Epoch 106/200\n",
      "11412/11412 [==============================] - 1s 90us/step - loss: 0.3085\n",
      "Epoch 107/200\n",
      "11412/11412 [==============================] - 1s 74us/step - loss: 0.3084: 0s - lo\n",
      "Epoch 108/200\n",
      "11412/11412 [==============================] - 1s 79us/step - loss: 0.3083\n",
      "Epoch 109/200\n",
      "11412/11412 [==============================] - 1s 77us/step - loss: 0.3078\n",
      "Epoch 110/200\n",
      "11412/11412 [==============================] - 1s 75us/step - loss: 0.3078\n",
      "Epoch 111/200\n",
      "11412/11412 [==============================] - 1s 74us/step - loss: 0.3074\n",
      "Epoch 112/200\n",
      "11412/11412 [==============================] - 1s 78us/step - loss: 0.3072\n",
      "Epoch 113/200\n",
      "11412/11412 [==============================] - 1s 69us/step - loss: 0.3072: 0s - loss: 0.3\n",
      "Epoch 114/200\n",
      "11412/11412 [==============================] - 1s 60us/step - loss: 0.3066\n",
      "Epoch 115/200\n",
      "11412/11412 [==============================] - 1s 66us/step - loss: 0.3067\n",
      "Epoch 116/200\n",
      "11412/11412 [==============================] - 1s 78us/step - loss: 0.3067\n",
      "Epoch 117/200\n",
      "11412/11412 [==============================] - 1s 89us/step - loss: 0.3062\n",
      "Epoch 118/200\n",
      "11412/11412 [==============================] - 1s 84us/step - loss: 0.3062\n",
      "Epoch 119/200\n",
      "11412/11412 [==============================] - 1s 80us/step - loss: 0.3059\n",
      "Epoch 120/200\n",
      "11412/11412 [==============================] - 1s 78us/step - loss: 0.3060\n",
      "Epoch 121/200\n",
      "11412/11412 [==============================] - 1s 77us/step - loss: 0.3055\n",
      "Epoch 122/200\n",
      "11412/11412 [==============================] - 1s 76us/step - loss: 0.3057\n",
      "Epoch 123/200\n",
      "11412/11412 [==============================] - 1s 78us/step - loss: 0.3053: 0\n",
      "Epoch 124/200\n",
      "11412/11412 [==============================] - 1s 78us/step - loss: 0.3047\n",
      "Epoch 125/200\n",
      "11412/11412 [==============================] - ETA: 0s - loss: 0.304 - 1s 77us/step - loss: 0.3050\n",
      "Epoch 126/200\n",
      "11412/11412 [==============================] - 1s 74us/step - loss: 0.3049\n",
      "Epoch 127/200\n",
      "11412/11412 [==============================] - 1s 79us/step - loss: 0.3045\n",
      "Epoch 128/200\n",
      "11412/11412 [==============================] - 1s 79us/step - loss: 0.3043\n",
      "Epoch 129/200\n",
      "11412/11412 [==============================] - 1s 77us/step - loss: 0.3043\n",
      "Epoch 130/200\n",
      "11412/11412 [==============================] - 1s 77us/step - loss: 0.3041: 0s - loss: 0.30\n",
      "Epoch 131/200\n",
      "11412/11412 [==============================] - 1s 75us/step - loss: 0.3038: 0s - loss: 0.302\n",
      "Epoch 132/200\n",
      "11412/11412 [==============================] - 1s 76us/step - loss: 0.3039\n",
      "Epoch 133/200\n",
      "11412/11412 [==============================] - 1s 73us/step - loss: 0.3035\n",
      "Epoch 134/200\n",
      "11412/11412 [==============================] - 1s 76us/step - loss: 0.3035\n",
      "Epoch 135/200\n",
      "11412/11412 [==============================] - 1s 77us/step - loss: 0.3032\n",
      "Epoch 136/200\n",
      "11412/11412 [==============================] - 1s 77us/step - loss: 0.3034\n",
      "Epoch 137/200\n",
      "11412/11412 [==============================] - 1s 70us/step - loss: 0.3030\n",
      "Epoch 138/200\n",
      "11412/11412 [==============================] - 1s 88us/step - loss: 0.3030\n",
      "Epoch 139/200\n",
      "11412/11412 [==============================] - 1s 78us/step - loss: 0.3027\n",
      "Epoch 140/200\n",
      "11412/11412 [==============================] - 1s 90us/step - loss: 0.3026\n",
      "Epoch 141/200\n",
      "11412/11412 [==============================] - 1s 95us/step - loss: 0.3026\n",
      "Epoch 142/200\n",
      "11412/11412 [==============================] - 1s 98us/step - loss: 0.3023: 0s - loss: 0.302\n",
      "Epoch 143/200\n",
      "11412/11412 [==============================] - 1s 97us/step - loss: 0.3022\n",
      "Epoch 144/200\n",
      "11412/11412 [==============================] - 1s 80us/step - loss: 0.3022\n",
      "Epoch 145/200\n",
      "11412/11412 [==============================] - 1s 86us/step - loss: 0.3018\n",
      "Epoch 146/200\n",
      "11412/11412 [==============================] - 1s 81us/step - loss: 0.3019: 0s - l\n",
      "Epoch 147/200\n",
      "11412/11412 [==============================] - 1s 76us/step - loss: 0.3019\n",
      "Epoch 148/200\n",
      "11412/11412 [==============================] - 1s 72us/step - loss: 0.3017\n",
      "Epoch 149/200\n",
      "11412/11412 [==============================] - 1s 77us/step - loss: 0.3016: 0s - loss: 0.3\n",
      "Epoch 150/200\n",
      "11412/11412 [==============================] - 1s 74us/step - loss: 0.3013\n",
      "Epoch 151/200\n",
      "11412/11412 [==============================] - 1s 78us/step - loss: 0.3007\n",
      "Epoch 152/200\n",
      "11412/11412 [==============================] - 1s 80us/step - loss: 0.3015\n",
      "Epoch 153/200\n",
      "11412/11412 [==============================] - 1s 77us/step - loss: 0.3009\n",
      "Epoch 154/200\n",
      "11412/11412 [==============================] - 1s 80us/step - loss: 0.3010\n",
      "Epoch 155/200\n",
      "11412/11412 [==============================] - 1s 77us/step - loss: 0.3010\n",
      "Epoch 156/200\n",
      "11412/11412 [==============================] - 1s 78us/step - loss: 0.3007\n",
      "Epoch 157/200\n",
      "11412/11412 [==============================] - 1s 74us/step - loss: 0.3006\n",
      "Epoch 158/200\n",
      "11412/11412 [==============================] - 1s 76us/step - loss: 0.3004\n",
      "Epoch 159/200\n",
      "11412/11412 [==============================] - 1s 78us/step - loss: 0.3007\n",
      "Epoch 160/200\n",
      "11412/11412 [==============================] - 1s 75us/step - loss: 0.3001\n",
      "Epoch 161/200\n",
      "11412/11412 [==============================] - 1s 81us/step - loss: 0.3005\n",
      "Epoch 162/200\n",
      "11412/11412 [==============================] - 1s 76us/step - loss: 0.3000\n",
      "Epoch 163/200\n",
      "11412/11412 [==============================] - 1s 78us/step - loss: 0.3000\n",
      "Epoch 164/200\n",
      "11412/11412 [==============================] - 1s 76us/step - loss: 0.2998\n",
      "Epoch 165/200\n",
      "11412/11412 [==============================] - 1s 77us/step - loss: 0.2996\n",
      "Epoch 166/200\n",
      "11412/11412 [==============================] - 1s 78us/step - loss: 0.2995\n",
      "Epoch 167/200\n",
      "11412/11412 [==============================] - 1s 74us/step - loss: 0.2999\n",
      "Epoch 168/200\n",
      "11412/11412 [==============================] - 1s 79us/step - loss: 0.2993\n",
      "Epoch 169/200\n",
      "11412/11412 [==============================] - 1s 78us/step - loss: 0.2994\n",
      "Epoch 170/200\n",
      "11412/11412 [==============================] - 1s 76us/step - loss: 0.2992\n",
      "Epoch 171/200\n",
      "11412/11412 [==============================] - 1s 75us/step - loss: 0.2993: 0s - lo\n",
      "Epoch 172/200\n",
      "11412/11412 [==============================] - 1s 82us/step - loss: 0.2992\n",
      "Epoch 173/200\n",
      "11412/11412 [==============================] - 1s 83us/step - loss: 0.2990\n",
      "Epoch 174/200\n",
      "11412/11412 [==============================] - 1s 77us/step - loss: 0.2990\n",
      "Epoch 175/200\n",
      "11412/11412 [==============================] - 1s 76us/step - loss: 0.2986\n",
      "Epoch 176/200\n",
      "11412/11412 [==============================] - 1s 79us/step - loss: 0.2989\n",
      "Epoch 177/200\n",
      "11412/11412 [==============================] - 1s 79us/step - loss: 0.2984\n",
      "Epoch 178/200\n",
      "11412/11412 [==============================] - 1s 78us/step - loss: 0.2982\n",
      "Epoch 179/200\n"
     ]
    },
    {
     "name": "stdout",
     "output_type": "stream",
     "text": [
      "11412/11412 [==============================] - 1s 74us/step - loss: 0.2980\n",
      "Epoch 180/200\n",
      "11412/11412 [==============================] - 1s 70us/step - loss: 0.2984\n",
      "Epoch 181/200\n",
      "11412/11412 [==============================] - 1s 83us/step - loss: 0.2984\n",
      "Epoch 182/200\n",
      "11412/11412 [==============================] - 1s 81us/step - loss: 0.2978\n",
      "Epoch 183/200\n",
      "11412/11412 [==============================] - 1s 87us/step - loss: 0.2979\n",
      "Epoch 184/200\n",
      "11412/11412 [==============================] - 1s 75us/step - loss: 0.2980\n",
      "Epoch 185/200\n",
      "11412/11412 [==============================] - 1s 79us/step - loss: 0.2978\n",
      "Epoch 186/200\n",
      "11412/11412 [==============================] - 1s 77us/step - loss: 0.2975: 0s - loss: 0.29\n",
      "Epoch 187/200\n",
      "11412/11412 [==============================] - 1s 72us/step - loss: 0.2978\n",
      "Epoch 188/200\n",
      "11412/11412 [==============================] - 1s 68us/step - loss: 0.2974\n",
      "Epoch 189/200\n",
      "11412/11412 [==============================] - 1s 69us/step - loss: 0.2972\n",
      "Epoch 190/200\n",
      "11412/11412 [==============================] - 1s 69us/step - loss: 0.2973\n",
      "Epoch 191/200\n",
      "11412/11412 [==============================] - 1s 68us/step - loss: 0.2973\n",
      "Epoch 192/200\n",
      "11412/11412 [==============================] - 1s 57us/step - loss: 0.2971\n",
      "Epoch 193/200\n",
      "11412/11412 [==============================] - 1s 59us/step - loss: 0.2972\n",
      "Epoch 194/200\n",
      "11412/11412 [==============================] - 1s 75us/step - loss: 0.2969\n",
      "Epoch 195/200\n",
      "11412/11412 [==============================] - 1s 77us/step - loss: 0.2968\n",
      "Epoch 196/200\n",
      "11412/11412 [==============================] - 1s 74us/step - loss: 0.2967\n",
      "Epoch 197/200\n",
      "11412/11412 [==============================] - 1s 69us/step - loss: 0.2969\n",
      "Epoch 198/200\n",
      "11412/11412 [==============================] - 1s 69us/step - loss: 0.2969: 0s - loss: 0.\n",
      "Epoch 199/200\n",
      "11412/11412 [==============================] - 1s 69us/step - loss: 0.2963\n",
      "Epoch 200/200\n",
      "11412/11412 [==============================] - 1s 70us/step - loss: 0.2964\n"
     ]
    }
   ],
   "source": [
    "history = model.fit(x_train, y_train, epochs=200, batch_size=32, verbose=1)"
   ]
  },
  {
   "cell_type": "code",
   "execution_count": 225,
   "metadata": {},
   "outputs": [
    {
     "data": {
      "image/png": "[encoded data removed]",
      "text/plain": [
       "<Figure size 936x576 with 1 Axes>"
      ]
     },
     "metadata": {
      "needs_background": "light"
     },
     "output_type": "display_data"
    }
   ],
   "source": [
    "def plot_history(history, figsize=(13, 8), color='purple', s=50, alpha=0.5):\n",
    "    plt.figure(figsize=figsize)\n",
    "    plt.grid(zorder=0, linestyle='--')\n",
    "    plt.scatter(history.epoch, history.history[\"loss\"], c=color, s=s, alpha=alpha)\n",
    "    plt.xlabel(\"epochs\")\n",
    "    plt.ylabel(\"loss\")\n",
    "    plt.show()\n",
    "    \n",
    "    \n",
    "plot_history(history)"
   ]
  },
  {
   "cell_type": "markdown",
   "metadata": {},
   "source": [
    "# Evaluating the Trained Model"
   ]
  },
  {
   "cell_type": "markdown",
   "metadata": {},
   "source": [
    "We can look at the overall loss from our test data after training the model was trained"
   ]
  },
  {
   "cell_type": "code",
   "execution_count": 226,
   "metadata": {
    "ExecuteTime": {
     "end_time": "2019-06-18T16:18:23.607022Z",
     "start_time": "2019-06-18T16:18:23.453388Z"
    }
   },
   "outputs": [
    {
     "name": "stdout",
     "output_type": "stream",
     "text": [
      "7608/7608 [==============================] - 1s 160us/step\n"
     ]
    },
    {
     "data": {
      "text/plain": [
       "0.326356510634678"
      ]
     },
     "execution_count": 226,
     "metadata": {},
     "output_type": "execute_result"
    }
   ],
   "source": [
    "# Could also just use a batch to evaluate\n",
    "loss_and_metrics = model.evaluate(x_test, y_test)\n",
    "\n",
    "loss_and_metrics"
   ]
  },
  {
   "cell_type": "markdown",
   "metadata": {},
   "source": [
    "We can have predictions (probability the data point is a particular class based on our trained model)"
   ]
  },
  {
   "cell_type": "code",
   "execution_count": 227,
   "metadata": {
    "ExecuteTime": {
     "end_time": "2019-06-18T16:18:23.701142Z",
     "start_time": "2019-06-18T16:18:23.613540Z"
    },
    "scrolled": true
   },
   "outputs": [
    {
     "data": {
      "text/plain": [
       "array([[0.9566773 , 0.04332269],\n",
       "       [0.6763478 , 0.32365215],\n",
       "       [0.92335296, 0.07664701]], dtype=float32)"
      ]
     },
     "execution_count": 227,
     "metadata": {},
     "output_type": "execute_result"
    }
   ],
   "source": [
    "probs = model.predict(x_test)\n",
    "probs[:3]"
   ]
  },
  {
   "cell_type": "markdown",
   "metadata": {},
   "source": [
    "We want to say what is the predicted class, so we pick just the largest probability for each result"
   ]
  },
  {
   "cell_type": "code",
   "execution_count": 228,
   "metadata": {
    "ExecuteTime": {
     "end_time": "2019-06-18T16:18:23.706830Z",
     "start_time": "2019-06-18T16:18:23.703922Z"
    }
   },
   "outputs": [
    {
     "data": {
      "text/plain": [
       "array([0, 0, 0])"
      ]
     },
     "execution_count": 228,
     "metadata": {},
     "output_type": "execute_result"
    }
   ],
   "source": [
    "predictions = np.argmax(probs, axis=1)\n",
    "\n",
    "predictions[:3]"
   ]
  },
  {
   "cell_type": "code",
   "execution_count": 229,
   "metadata": {
    "ExecuteTime": {
     "end_time": "2019-06-18T16:18:23.715400Z",
     "start_time": "2019-06-18T16:18:23.708557Z"
    }
   },
   "outputs": [
    {
     "data": {
      "text/plain": [
       "array([0.86869085])"
      ]
     },
     "execution_count": 229,
     "metadata": {},
     "output_type": "execute_result"
    }
   ],
   "source": [
    "np.sum(predictions  == np.argmax(y_test, axis=1)) / predictions.shape"
   ]
  },
  {
   "cell_type": "code",
   "execution_count": 231,
   "metadata": {},
   "outputs": [
    {
     "name": "stdout",
     "output_type": "stream",
     "text": [
      "              precision    recall  f1-score   support\n",
      "\n",
      "           0       0.87      0.93      0.90      4889\n",
      "           1       0.86      0.75      0.80      2719\n",
      "\n",
      "    accuracy                           0.87      7608\n",
      "   macro avg       0.87      0.84      0.85      7608\n",
      "weighted avg       0.87      0.87      0.87      7608\n",
      "\n"
     ]
    }
   ],
   "source": [
    "report = classification_report(y_test.argmax(axis=1), predictions, labels=[0, 1])\n",
    "print(report)"
   ]
  },
  {
   "cell_type": "markdown",
   "metadata": {},
   "source": [
    "Finally, we can see how accurate our model was by seeing if the predicted classes match the actual labels. Note that this is calculated differently from how the loss is calculated."
   ]
  },
  {
   "cell_type": "markdown",
   "metadata": {},
   "source": [
    "### But Behold!!!! An out of the box RFC comes into the fold! "
   ]
  },
  {
   "cell_type": "code",
   "execution_count": 232,
   "metadata": {},
   "outputs": [],
   "source": [
    "from sklearn.ensemble import RandomForestClassifier"
   ]
  },
  {
   "cell_type": "code",
   "execution_count": 233,
   "metadata": {},
   "outputs": [],
   "source": [
    "clf = RandomForestClassifier()"
   ]
  },
  {
   "cell_type": "code",
   "execution_count": 234,
   "metadata": {},
   "outputs": [
    {
     "name": "stderr",
     "output_type": "stream",
     "text": [
      "/anaconda3/lib/python3.7/site-packages/sklearn/ensemble/forest.py:245: FutureWarning: The default value of n_estimators will change from 10 in version 0.20 to 100 in 0.22.\n",
      "  \"10 in version 0.20 to 100 in 0.22.\", FutureWarning)\n"
     ]
    },
    {
     "data": {
      "text/plain": [
       "RandomForestClassifier(bootstrap=True, class_weight=None, criterion='gini',\n",
       "                       max_depth=None, max_features='auto', max_leaf_nodes=None,\n",
       "                       min_impurity_decrease=0.0, min_impurity_split=None,\n",
       "                       min_samples_leaf=1, min_samples_split=2,\n",
       "                       min_weight_fraction_leaf=0.0, n_estimators=10,\n",
       "                       n_jobs=None, oob_score=False, random_state=None,\n",
       "                       verbose=0, warm_start=False)"
      ]
     },
     "execution_count": 234,
     "metadata": {},
     "output_type": "execute_result"
    }
   ],
   "source": [
    "clf.fit(x_train, y_train)"
   ]
  },
  {
   "cell_type": "code",
   "execution_count": 235,
   "metadata": {},
   "outputs": [
    {
     "data": {
      "text/plain": [
       "0.8409568874868559"
      ]
     },
     "execution_count": 235,
     "metadata": {},
     "output_type": "execute_result"
    }
   ],
   "source": [
    "clf_preds = clf.predict(x_test)\n",
    "clf.score(x_test, y_test)"
   ]
  },
  {
   "cell_type": "code",
   "execution_count": 236,
   "metadata": {},
   "outputs": [
    {
     "name": "stdout",
     "output_type": "stream",
     "text": [
      "              precision    recall  f1-score   support\n",
      "\n",
      "           0       0.88      0.90      0.89      4889\n",
      "           1       0.87      0.73      0.80      2719\n",
      "\n",
      "   micro avg       0.88      0.84      0.86      7608\n",
      "   macro avg       0.88      0.82      0.84      7608\n",
      "weighted avg       0.88      0.84      0.86      7608\n",
      " samples avg       0.84      0.84      0.84      7608\n",
      "\n"
     ]
    },
    {
     "name": "stderr",
     "output_type": "stream",
     "text": [
      "/anaconda3/lib/python3.7/site-packages/sklearn/metrics/classification.py:1437: UndefinedMetricWarning: Precision and F-score are ill-defined and being set to 0.0 in samples with no predicted labels.\n",
      "  'precision', 'predicted', average, warn_for)\n"
     ]
    }
   ],
   "source": [
    "report = classification_report(y_test, clf_preds)\n",
    "print(report)"
   ]
  },
  {
   "cell_type": "markdown",
   "metadata": {},
   "source": [
    "### Let's add another Layer"
   ]
  },
  {
   "cell_type": "code",
   "execution_count": 237,
   "metadata": {},
   "outputs": [
    {
     "name": "stdout",
     "output_type": "stream",
     "text": [
      "_________________________________________________________________\n",
      "Layer (type)                 Output Shape              Param #   \n",
      "=================================================================\n",
      "dense_61 (Dense)             (None, 32)                352       \n",
      "_________________________________________________________________\n",
      "dense_62 (Dense)             (None, 32)                1056      \n",
      "_________________________________________________________________\n",
      "dense_63 (Dense)             (None, 2)                 66        \n",
      "=================================================================\n",
      "Total params: 1,474\n",
      "Trainable params: 1,474\n",
      "Non-trainable params: 0\n",
      "_________________________________________________________________\n"
     ]
    }
   ],
   "source": [
    "### Let's build a new model and add another layer\n",
    "model_mlp = Sequential()\n",
    "\n",
    "\n",
    "# hidden layers\n",
    "model_mlp.add(Dense(input_dim=10, units=32, activation='relu'))\n",
    "model_mlp.add(Dense(units=32, activation='relu'))\n",
    "\n",
    "\n",
    "# classifier layer\n",
    "model_mlp.add(Dense(units=2, activation='softmax'))\n",
    "\n",
    "\n",
    "model_mlp.summary()"
   ]
  },
  {
   "cell_type": "code",
   "execution_count": 238,
   "metadata": {
    "scrolled": false
   },
   "outputs": [
    {
     "name": "stdout",
     "output_type": "stream",
     "text": [
      "Epoch 1/100\n",
      "11412/11412 [==============================] - 3s 269us/step - loss: 0.5848 0s - loss: \n",
      "Epoch 2/100\n",
      "11412/11412 [==============================] - 1s 89us/step - loss: 0.4602\n",
      "Epoch 3/100\n",
      "11412/11412 [==============================] - 1s 88us/step - loss: 0.4175\n",
      "Epoch 4/100\n",
      "11412/11412 [==============================] - 1s 89us/step - loss: 0.4010: 0s - l - ETA: 0s - loss: 0.401\n",
      "Epoch 5/100\n",
      "11412/11412 [==============================] - 1s 97us/step - loss: 0.3911\n",
      "Epoch 6/100\n",
      "11412/11412 [==============================] - 1s 99us/step - loss: 0.3838\n",
      "Epoch 7/100\n",
      "11412/11412 [==============================] - 1s 95us/step - loss: 0.3773\n",
      "Epoch 8/100\n",
      "11412/11412 [==============================] - 1s 87us/step - loss: 0.3715\n",
      "Epoch 9/100\n",
      "11412/11412 [==============================] - 1s 64us/step - loss: 0.3666\n",
      "Epoch 10/100\n",
      "11412/11412 [==============================] - 1s 71us/step - loss: 0.3623: 0s - loss: \n",
      "Epoch 11/100\n",
      "11412/11412 [==============================] - 1s 78us/step - loss: 0.3586\n",
      "Epoch 12/100\n",
      "11412/11412 [==============================] - 1s 79us/step - loss: 0.3552\n",
      "Epoch 13/100\n",
      "11412/11412 [==============================] - 1s 75us/step - loss: 0.3519\n",
      "Epoch 14/100\n",
      "11412/11412 [==============================] - 1s 75us/step - loss: 0.3491: 0s - \n",
      "Epoch 15/100\n",
      "11412/11412 [==============================] - 1s 87us/step - loss: 0.3462: 0s - loss: 0.\n",
      "Epoch 16/100\n",
      "11412/11412 [==============================] - 1s 86us/step - loss: 0.3435\n",
      "Epoch 17/100\n",
      "11412/11412 [==============================] - 1s 77us/step - loss: 0.3414\n",
      "Epoch 18/100\n",
      "11412/11412 [==============================] - 1s 84us/step - loss: 0.3385\n",
      "Epoch 19/100\n",
      "11412/11412 [==============================] - 1s 94us/step - loss: 0.3368: 0s - loss: 0.328 - ETA: 0s \n",
      "Epoch 20/100\n",
      "11412/11412 [==============================] - 1s 98us/step - loss: 0.3341\n",
      "Epoch 21/100\n",
      "11412/11412 [==============================] - 1s 86us/step - loss: 0.3328\n",
      "Epoch 22/100\n",
      "11412/11412 [==============================] - 1s 84us/step - loss: 0.3303\n",
      "Epoch 23/100\n",
      "11412/11412 [==============================] - 1s 85us/step - loss: 0.3283\n",
      "Epoch 24/100\n",
      "11412/11412 [==============================] - 1s 78us/step - loss: 0.3266\n",
      "Epoch 25/100\n",
      "11412/11412 [==============================] - 1s 80us/step - loss: 0.3250\n",
      "Epoch 26/100\n",
      "11412/11412 [==============================] - 1s 80us/step - loss: 0.3233\n",
      "Epoch 27/100\n",
      "11412/11412 [==============================] - 1s 80us/step - loss: 0.3222\n",
      "Epoch 28/100\n",
      "11412/11412 [==============================] - 1s 78us/step - loss: 0.3206\n",
      "Epoch 29/100\n",
      "11412/11412 [==============================] - 1s 79us/step - loss: 0.3196\n",
      "Epoch 30/100\n",
      "11412/11412 [==============================] - 1s 80us/step - loss: 0.3184\n",
      "Epoch 31/100\n",
      "11412/11412 [==============================] - ETA: 0s - loss: 0.318 - 1s 80us/step - loss: 0.3172\n",
      "Epoch 32/100\n",
      "11412/11412 [==============================] - 1s 77us/step - loss: 0.3162\n",
      "Epoch 33/100\n",
      "11412/11412 [==============================] - 1s 77us/step - loss: 0.3152\n",
      "Epoch 34/100\n",
      "11412/11412 [==============================] - 1s 75us/step - loss: 0.3144\n",
      "Epoch 35/100\n",
      "11412/11412 [==============================] - 1s 76us/step - loss: 0.3134\n",
      "Epoch 36/100\n",
      "11412/11412 [==============================] - 1s 78us/step - loss: 0.3119: 0s - loss: 0 - ETA: 0s - loss: 0.311\n",
      "Epoch 37/100\n",
      "11412/11412 [==============================] - 1s 78us/step - loss: 0.3120\n",
      "Epoch 38/100\n",
      "11412/11412 [==============================] - 1s 87us/step - loss: 0.3112\n",
      "Epoch 39/100\n",
      "11412/11412 [==============================] - 1s 81us/step - loss: 0.3107: 0s -\n",
      "Epoch 40/100\n",
      "11412/11412 [==============================] - 1s 86us/step - loss: 0.3093\n",
      "Epoch 41/100\n",
      "11412/11412 [==============================] - 1s 91us/step - loss: 0.3089\n",
      "Epoch 42/100\n",
      "11412/11412 [==============================] - 1s 90us/step - loss: 0.3081\n",
      "Epoch 43/100\n",
      "11412/11412 [==============================] - 1s 93us/step - loss: 0.3072\n",
      "Epoch 44/100\n",
      "11412/11412 [==============================] - 1s 79us/step - loss: 0.3064: 0s - loss: \n",
      "Epoch 45/100\n",
      "11412/11412 [==============================] - 1s 88us/step - loss: 0.3064: 0s - loss: 0.30\n",
      "Epoch 46/100\n",
      "11412/11412 [==============================] - 1s 88us/step - loss: 0.3056\n",
      "Epoch 47/100\n",
      "11412/11412 [==============================] - 1s 92us/step - loss: 0.3050\n",
      "Epoch 48/100\n",
      "11412/11412 [==============================] - 1s 89us/step - loss: 0.3043\n",
      "Epoch 49/100\n",
      "11412/11412 [==============================] - 1s 88us/step - loss: 0.3039\n",
      "Epoch 50/100\n",
      "11412/11412 [==============================] - 1s 85us/step - loss: 0.3038: 0s - los\n",
      "Epoch 51/100\n",
      "11412/11412 [==============================] - 1s 87us/step - loss: 0.3031: 0s - loss: 0.30\n",
      "Epoch 52/100\n",
      "11412/11412 [==============================] - 1s 83us/step - loss: 0.3027\n",
      "Epoch 53/100\n",
      "11412/11412 [==============================] - 1s 79us/step - loss: 0.3018\n",
      "Epoch 54/100\n",
      "11412/11412 [==============================] - 1s 97us/step - loss: 0.3016\n",
      "Epoch 55/100\n",
      "11412/11412 [==============================] - 1s 85us/step - loss: 0.3013\n",
      "Epoch 56/100\n",
      "11412/11412 [==============================] - 1s 85us/step - loss: 0.3010\n",
      "Epoch 57/100\n",
      "11412/11412 [==============================] - 1s 92us/step - loss: 0.3005\n",
      "Epoch 58/100\n",
      "11412/11412 [==============================] - 1s 87us/step - loss: 0.3002\n",
      "Epoch 59/100\n",
      "11412/11412 [==============================] - 1s 79us/step - loss: 0.3002\n",
      "Epoch 60/100\n",
      "11412/11412 [==============================] - 1s 82us/step - loss: 0.2998: 0s - loss: 0\n",
      "Epoch 61/100\n",
      "11412/11412 [==============================] - 1s 81us/step - loss: 0.2992\n",
      "Epoch 62/100\n",
      "11412/11412 [==============================] - 1s 88us/step - loss: 0.2983\n",
      "Epoch 63/100\n",
      "11412/11412 [==============================] - 1s 90us/step - loss: 0.2985: 0s - loss:  - ETA: 0s - loss: 0.2\n",
      "Epoch 64/100\n",
      "11412/11412 [==============================] - 1s 89us/step - loss: 0.2978\n",
      "Epoch 65/100\n",
      "11412/11412 [==============================] - 1s 96us/step - loss: 0.2982\n",
      "Epoch 66/100\n",
      "11412/11412 [==============================] - 1s 93us/step - loss: 0.2976\n",
      "Epoch 67/100\n",
      "11412/11412 [==============================] - 1s 94us/step - loss: 0.2975\n",
      "Epoch 68/100\n",
      "11412/11412 [==============================] - 1s 90us/step - loss: 0.2964\n",
      "Epoch 69/100\n",
      "11412/11412 [==============================] - 1s 96us/step - loss: 0.2970\n",
      "Epoch 70/100\n",
      "11412/11412 [==============================] - 1s 92us/step - loss: 0.2964\n",
      "Epoch 71/100\n",
      "11412/11412 [==============================] - 1s 87us/step - loss: 0.2961: 0s \n",
      "Epoch 72/100\n",
      "11412/11412 [==============================] - 1s 90us/step - loss: 0.2960\n",
      "Epoch 73/100\n",
      "11412/11412 [==============================] - 1s 91us/step - loss: 0.2956\n",
      "Epoch 74/100\n",
      "11412/11412 [==============================] - 1s 91us/step - loss: 0.2955\n",
      "Epoch 75/100\n",
      "11412/11412 [==============================] - 1s 85us/step - loss: 0.2953: 0s -\n",
      "Epoch 76/100\n",
      "11412/11412 [==============================] - 1s 84us/step - loss: 0.2951\n",
      "Epoch 77/100\n",
      "11412/11412 [==============================] - 1s 92us/step - loss: 0.2945\n",
      "Epoch 78/100\n",
      "11412/11412 [==============================] - 1s 84us/step - loss: 0.2944: 0s - loss: 0.2\n",
      "Epoch 79/100\n",
      "11412/11412 [==============================] - 1s 84us/step - loss: 0.2935: 0s \n",
      "Epoch 80/100\n",
      "11412/11412 [==============================] - 1s 93us/step - loss: 0.2937: 0s - l\n",
      "Epoch 81/100\n",
      "11412/11412 [==============================] - 1s 96us/step - loss: 0.2935\n",
      "Epoch 82/100\n",
      "11412/11412 [==============================] - 1s 74us/step - loss: 0.2929\n",
      "Epoch 83/100\n",
      "11412/11412 [==============================] - 1s 79us/step - loss: 0.2928\n",
      "Epoch 84/100\n",
      "11412/11412 [==============================] - 1s 91us/step - loss: 0.2927: 0s - \n",
      "Epoch 85/100\n",
      "11412/11412 [==============================] - 1s 89us/step - loss: 0.2923\n",
      "Epoch 86/100\n",
      "11412/11412 [==============================] - 1s 90us/step - loss: 0.2922\n",
      "Epoch 87/100\n",
      "11412/11412 [==============================] - 1s 89us/step - loss: 0.2918\n",
      "Epoch 88/100\n",
      "11412/11412 [==============================] - 1s 85us/step - loss: 0.2914\n",
      "Epoch 89/100\n",
      "11412/11412 [==============================] - 1s 89us/step - loss: 0.2912: 0s - \n",
      "Epoch 90/100\n"
     ]
    },
    {
     "name": "stdout",
     "output_type": "stream",
     "text": [
      "11412/11412 [==============================] - 1s 87us/step - loss: 0.2914\n",
      "Epoch 91/100\n",
      "11412/11412 [==============================] - 1s 92us/step - loss: 0.2910\n",
      "Epoch 92/100\n",
      "11412/11412 [==============================] - 1s 104us/step - loss: 0.2904\n",
      "Epoch 93/100\n",
      "11412/11412 [==============================] - 1s 95us/step - loss: 0.2907\n",
      "Epoch 94/100\n",
      "11412/11412 [==============================] - 1s 82us/step - loss: 0.2898\n",
      "Epoch 95/100\n",
      "11412/11412 [==============================] - 1s 79us/step - loss: 0.2893\n",
      "Epoch 96/100\n",
      "11412/11412 [==============================] - 1s 77us/step - loss: 0.2892\n",
      "Epoch 97/100\n",
      "11412/11412 [==============================] - 1s 87us/step - loss: 0.2891\n",
      "Epoch 98/100\n",
      "11412/11412 [==============================] - 1s 95us/step - loss: 0.2889\n",
      "Epoch 99/100\n",
      "11412/11412 [==============================] - 1s 83us/step - loss: 0.2883\n",
      "Epoch 100/100\n",
      "11412/11412 [==============================] - 1s 79us/step - loss: 0.2884\n"
     ]
    },
    {
     "data": {
      "image/png": "[encoded data removed]",
      "text/plain": [
       "<Figure size 936x576 with 1 Axes>"
      ]
     },
     "metadata": {
      "needs_background": "light"
     },
     "output_type": "display_data"
    }
   ],
   "source": [
    "model_mlp.compile(loss=keras.losses.categorical_crossentropy, \n",
    "                  optimizer=optimizers.SGD(lr=0.001, momentum=0.9, nesterov=True))\n",
    "\n",
    "history_mlp = model_mlp.fit(x_train, y_train, epochs=100, batch_size=32, verbose=1)\n",
    "\n",
    "plot_history(history_mlp)"
   ]
  },
  {
   "cell_type": "code",
   "execution_count": 239,
   "metadata": {},
   "outputs": [
    {
     "name": "stdout",
     "output_type": "stream",
     "text": [
      "7608/7608 [==============================] - 1s 166us/step\n"
     ]
    },
    {
     "data": {
      "text/plain": [
       "0.32180120914265686"
      ]
     },
     "execution_count": 239,
     "metadata": {},
     "output_type": "execute_result"
    }
   ],
   "source": [
    "loss_and_metrics = model_mlp.evaluate(x_test, y_test)\n",
    "\n",
    "loss_and_metrics"
   ]
  },
  {
   "cell_type": "code",
   "execution_count": 240,
   "metadata": {},
   "outputs": [
    {
     "data": {
      "text/plain": [
       "array([0.86987382])"
      ]
     },
     "execution_count": 240,
     "metadata": {},
     "output_type": "execute_result"
    }
   ],
   "source": [
    "probs = model_mlp.predict(x_test)\n",
    "predictions = np.argmax(probs, axis=1)\n",
    "np.sum(predictions  == np.argmax(y_test, axis=1)) / predictions.shape"
   ]
  },
  {
   "cell_type": "code",
   "execution_count": 241,
   "metadata": {},
   "outputs": [
    {
     "name": "stdout",
     "output_type": "stream",
     "text": [
      "              precision    recall  f1-score   support\n",
      "\n",
      "           0       0.86      0.95      0.90      4889\n",
      "           1       0.89      0.73      0.80      2719\n",
      "           2       0.00      0.00      0.00         0\n",
      "\n",
      "   micro avg       0.87      0.87      0.87      7608\n",
      "   macro avg       0.58      0.56      0.57      7608\n",
      "weighted avg       0.87      0.87      0.87      7608\n",
      "\n"
     ]
    },
    {
     "name": "stderr",
     "output_type": "stream",
     "text": [
      "/anaconda3/lib/python3.7/site-packages/sklearn/metrics/classification.py:1437: UndefinedMetricWarning: Precision and F-score are ill-defined and being set to 0.0 in labels with no predicted samples.\n",
      "  'precision', 'predicted', average, warn_for)\n",
      "/anaconda3/lib/python3.7/site-packages/sklearn/metrics/classification.py:1439: UndefinedMetricWarning: Recall and F-score are ill-defined and being set to 0.0 in labels with no true samples.\n",
      "  'recall', 'true', average, warn_for)\n"
     ]
    }
   ],
   "source": [
    "report = classification_report(y_test.argmax(axis=1), predictions, labels=[0, 1, 2])\n",
    "print(report)"
   ]
  },
  {
   "cell_type": "markdown",
   "metadata": {},
   "source": [
    "#### Add another layer and plot the loss"
   ]
  },
  {
   "cell_type": "code",
   "execution_count": 243,
   "metadata": {},
   "outputs": [
    {
     "name": "stdout",
     "output_type": "stream",
     "text": [
      "_________________________________________________________________\n",
      "Layer (type)                 Output Shape              Param #   \n",
      "=================================================================\n",
      "dense_66 (Dense)             (None, 16)                176       \n",
      "_________________________________________________________________\n",
      "dense_67 (Dense)             (None, 32)                544       \n",
      "_________________________________________________________________\n",
      "dense_68 (Dense)             (None, 64)                2112      \n",
      "_________________________________________________________________\n",
      "dense_69 (Dense)             (None, 2)                 130       \n",
      "=================================================================\n",
      "Total params: 2,962\n",
      "Trainable params: 2,962\n",
      "Non-trainable params: 0\n",
      "_________________________________________________________________\n"
     ]
    },
    {
     "data": {
      "text/plain": [
       "None"
      ]
     },
     "metadata": {},
     "output_type": "display_data"
    }
   ],
   "source": [
    "# Build your model\n",
    "model_mlp = Sequential()\n",
    "\n",
    "\n",
    "# hidden layers\n",
    "model_mlp.add(Dense(input_dim=10, units=16, activation='relu'))\n",
    "model_mlp.add(Dense(units=32, activation='relu'))\n",
    "model_mlp.add(Dense(units = 64, activation = 'relu'))\n",
    "\n",
    "# classifier layer\n",
    "model_mlp.add(Dense(units=2, activation='softmax'))\n",
    "\n",
    "\n",
    "display(model_mlp.summary())\n",
    "\n",
    "# Compile it\n",
    "\n",
    "\n",
    "# fit your model using 100 epochs\n"
   ]
  },
  {
   "cell_type": "code",
   "execution_count": 244,
   "metadata": {},
   "outputs": [
    {
     "name": "stdout",
     "output_type": "stream",
     "text": [
      "Epoch 1/100\n",
      "11412/11412 [==============================] - 3s 290us/step - loss: 0.5433\n",
      "Epoch 2/100\n",
      "11412/11412 [==============================] - 1s 84us/step - loss: 0.4432\n",
      "Epoch 3/100\n",
      "11412/11412 [==============================] - 1s 84us/step - loss: 0.4137\n",
      "Epoch 4/100\n",
      "11412/11412 [==============================] - 1s 84us/step - loss: 0.3984\n",
      "Epoch 5/100\n",
      "11412/11412 [==============================] - 1s 82us/step - loss: 0.3867\n",
      "Epoch 6/100\n",
      "11412/11412 [==============================] - 1s 78us/step - loss: 0.3767\n",
      "Epoch 7/100\n",
      "11412/11412 [==============================] - 1s 79us/step - loss: 0.3688: 0s - loss: 0.369\n",
      "Epoch 8/100\n",
      "11412/11412 [==============================] - 1s 79us/step - loss: 0.3613\n",
      "Epoch 9/100\n",
      "11412/11412 [==============================] - 1s 91us/step - loss: 0.3558\n",
      "Epoch 10/100\n",
      "11412/11412 [==============================] - 1s 96us/step - loss: 0.3519\n",
      "Epoch 11/100\n",
      "11412/11412 [==============================] - 1s 83us/step - loss: 0.3484\n",
      "Epoch 12/100\n",
      "11412/11412 [==============================] - 1s 78us/step - loss: 0.3455\n",
      "Epoch 13/100\n",
      "11412/11412 [==============================] - 1s 81us/step - loss: 0.3428\n",
      "Epoch 14/100\n",
      "11412/11412 [==============================] - 1s 80us/step - loss: 0.3410: 0s - loss: 0.340\n",
      "Epoch 15/100\n",
      "11412/11412 [==============================] - 1s 81us/step - loss: 0.3387: 0s - lo\n",
      "Epoch 16/100\n",
      "11412/11412 [==============================] - 1s 79us/step - loss: 0.3367\n",
      "Epoch 17/100\n",
      "11412/11412 [==============================] - 1s 107us/step - loss: 0.3348 0s - loss: 0.3 - ETA: 0s - lo\n",
      "Epoch 18/100\n",
      "11412/11412 [==============================] - 1s 91us/step - loss: 0.3339\n",
      "Epoch 19/100\n",
      "11412/11412 [==============================] - 1s 84us/step - loss: 0.3318\n",
      "Epoch 20/100\n",
      "11412/11412 [==============================] - 1s 80us/step - loss: 0.3302\n",
      "Epoch 21/100\n",
      "11412/11412 [==============================] - 1s 80us/step - loss: 0.3289\n",
      "Epoch 22/100\n",
      "11412/11412 [==============================] - 1s 80us/step - loss: 0.3277: 0s - loss: \n",
      "Epoch 23/100\n",
      "11412/11412 [==============================] - 1s 82us/step - loss: 0.3271: 0s - loss: 0.327\n",
      "Epoch 24/100\n",
      "11412/11412 [==============================] - 1s 84us/step - loss: 0.3252\n",
      "Epoch 25/100\n",
      "11412/11412 [==============================] - 1s 92us/step - loss: 0.3241\n",
      "Epoch 26/100\n",
      "11412/11412 [==============================] - 1s 92us/step - loss: 0.3228\n",
      "Epoch 27/100\n",
      "11412/11412 [==============================] - 1s 94us/step - loss: 0.3214\n",
      "Epoch 28/100\n",
      "11412/11412 [==============================] - 1s 88us/step - loss: 0.3201\n",
      "Epoch 29/100\n",
      "11412/11412 [==============================] - 1s 81us/step - loss: 0.3199\n",
      "Epoch 30/100\n",
      "11412/11412 [==============================] - 1s 79us/step - loss: 0.3186\n",
      "Epoch 31/100\n",
      "11412/11412 [==============================] - 1s 96us/step - loss: 0.3172\n",
      "Epoch 32/100\n",
      "11412/11412 [==============================] - 1s 97us/step - loss: 0.3169\n",
      "Epoch 33/100\n",
      "11412/11412 [==============================] - 1s 90us/step - loss: 0.3158\n",
      "Epoch 34/100\n",
      "11412/11412 [==============================] - 1s 84us/step - loss: 0.3154: 0s - loss: 0 - ETA: 0s -  - ETA: 0s - loss: 0.314\n",
      "Epoch 35/100\n",
      "11412/11412 [==============================] - 1s 95us/step - loss: 0.3141\n",
      "Epoch 36/100\n",
      "11412/11412 [==============================] - 1s 95us/step - loss: 0.3132: 0s - loss: 0.31\n",
      "Epoch 37/100\n",
      "11412/11412 [==============================] - 1s 85us/step - loss: 0.3127\n",
      "Epoch 38/100\n",
      "11412/11412 [==============================] - 1s 91us/step - loss: 0.3116\n",
      "Epoch 39/100\n",
      "11412/11412 [==============================] - 1s 86us/step - loss: 0.3112\n",
      "Epoch 40/100\n",
      "11412/11412 [==============================] - 1s 81us/step - loss: 0.3106\n",
      "Epoch 41/100\n",
      "11412/11412 [==============================] - 1s 82us/step - loss: 0.3105\n",
      "Epoch 42/100\n",
      "11412/11412 [==============================] - 1s 79us/step - loss: 0.3096\n",
      "Epoch 43/100\n",
      "11412/11412 [==============================] - 1s 80us/step - loss: 0.3093\n",
      "Epoch 44/100\n",
      "11412/11412 [==============================] - 1s 84us/step - loss: 0.3093\n",
      "Epoch 45/100\n",
      "11412/11412 [==============================] - 1s 90us/step - loss: 0.3077\n",
      "Epoch 46/100\n",
      "11412/11412 [==============================] - 1s 85us/step - loss: 0.3073:\n",
      "Epoch 47/100\n",
      "11412/11412 [==============================] - 1s 84us/step - loss: 0.3071\n",
      "Epoch 48/100\n",
      "11412/11412 [==============================] - 1s 97us/step - loss: 0.3061\n",
      "Epoch 49/100\n",
      "11412/11412 [==============================] - 1s 91us/step - loss: 0.3058\n",
      "Epoch 50/100\n",
      "11412/11412 [==============================] - 1s 85us/step - loss: 0.3058: 0s \n",
      "Epoch 51/100\n",
      "11412/11412 [==============================] - 1s 79us/step - loss: 0.3046\n",
      "Epoch 52/100\n",
      "11412/11412 [==============================] - 1s 79us/step - loss: 0.3047\n",
      "Epoch 53/100\n",
      "11412/11412 [==============================] - 1s 82us/step - loss: 0.3038: 0s - loss: 0.304\n",
      "Epoch 54/100\n",
      "11412/11412 [==============================] - 1s 81us/step - loss: 0.3038\n",
      "Epoch 55/100\n",
      "11412/11412 [==============================] - 1s 95us/step - loss: 0.3030\n",
      "Epoch 56/100\n",
      "11412/11412 [==============================] - 1s 91us/step - loss: 0.3027\n",
      "Epoch 57/100\n",
      "11412/11412 [==============================] - 1s 85us/step - loss: 0.3024\n",
      "Epoch 58/100\n",
      "11412/11412 [==============================] - 1s 85us/step - loss: 0.3022\n",
      "Epoch 59/100\n",
      "11412/11412 [==============================] - 1s 95us/step - loss: 0.3014\n",
      "Epoch 60/100\n",
      "11412/11412 [==============================] - 1s 90us/step - loss: 0.3013\n",
      "Epoch 61/100\n",
      "11412/11412 [==============================] - 1s 88us/step - loss: 0.3003: 0s - loss: 0\n",
      "Epoch 62/100\n",
      "11412/11412 [==============================] - 1s 93us/step - loss: 0.3007\n",
      "Epoch 63/100\n",
      "11412/11412 [==============================] - 1s 92us/step - loss: 0.3002\n",
      "Epoch 64/100\n",
      "11412/11412 [==============================] - 1s 82us/step - loss: 0.2994\n",
      "Epoch 65/100\n",
      "11412/11412 [==============================] - 1s 83us/step - loss: 0.2998: 0s - loss - ETA: 0s - loss: 0.2\n",
      "Epoch 66/100\n",
      "11412/11412 [==============================] - 1s 83us/step - loss: 0.2987\n",
      "Epoch 67/100\n",
      "11412/11412 [==============================] - 1s 76us/step - loss: 0.2989\n",
      "Epoch 68/100\n",
      "11412/11412 [==============================] - 1s 82us/step - loss: 0.2981: 0s - loss: \n",
      "Epoch 69/100\n",
      "11412/11412 [==============================] - 1s 82us/step - loss: 0.2983\n",
      "Epoch 70/100\n",
      "11412/11412 [==============================] - 1s 87us/step - loss: 0.2976\n",
      "Epoch 71/100\n",
      "11412/11412 [==============================] - 1s 84us/step - loss: 0.2973: 0s - lo\n",
      "Epoch 72/100\n",
      "11412/11412 [==============================] - 1s 94us/step - loss: 0.2975\n",
      "Epoch 73/100\n",
      "11412/11412 [==============================] - 1s 88us/step - loss: 0.2964\n",
      "Epoch 74/100\n",
      "11412/11412 [==============================] - 1s 71us/step - loss: 0.2969\n",
      "Epoch 75/100\n",
      "11412/11412 [==============================] - 1s 70us/step - loss: 0.2962\n",
      "Epoch 76/100\n",
      "11412/11412 [==============================] - 1s 82us/step - loss: 0.2958\n",
      "Epoch 77/100\n",
      "11412/11412 [==============================] - 1s 85us/step - loss: 0.2961\n",
      "Epoch 78/100\n",
      "11412/11412 [==============================] - 1s 87us/step - loss: 0.2957\n",
      "Epoch 79/100\n",
      "11412/11412 [==============================] - 1s 87us/step - loss: 0.2957\n",
      "Epoch 80/100\n",
      "11412/11412 [==============================] - 1s 82us/step - loss: 0.2947\n",
      "Epoch 81/100\n",
      "11412/11412 [==============================] - 1s 85us/step - loss: 0.2951\n",
      "Epoch 82/100\n",
      "11412/11412 [==============================] - 1s 96us/step - loss: 0.2944\n",
      "Epoch 83/100\n",
      "11412/11412 [==============================] - 1s 88us/step - loss: 0.2941\n",
      "Epoch 84/100\n",
      "11412/11412 [==============================] - 1s 85us/step - loss: 0.2941: 0s \n",
      "Epoch 85/100\n",
      "11412/11412 [==============================] - 1s 81us/step - loss: 0.2940\n",
      "Epoch 86/100\n",
      "11412/11412 [==============================] - 1s 93us/step - loss: 0.2932\n",
      "Epoch 87/100\n",
      "11412/11412 [==============================] - 1s 88us/step - loss: 0.2934\n",
      "Epoch 88/100\n",
      "11412/11412 [==============================] - 1s 90us/step - loss: 0.2928\n",
      "Epoch 89/100\n",
      "11412/11412 [==============================] - 1s 88us/step - loss: 0.2924\n",
      "Epoch 90/100\n",
      "11412/11412 [==============================] - 1s 83us/step - loss: 0.2924\n",
      "Epoch 91/100\n"
     ]
    },
    {
     "name": "stdout",
     "output_type": "stream",
     "text": [
      "11412/11412 [==============================] - 1s 82us/step - loss: 0.2922\n",
      "Epoch 92/100\n",
      "11412/11412 [==============================] - 1s 84us/step - loss: 0.2914\n",
      "Epoch 93/100\n",
      "11412/11412 [==============================] - 1s 92us/step - loss: 0.2915\n",
      "Epoch 94/100\n",
      "11412/11412 [==============================] - 1s 82us/step - loss: 0.2911\n",
      "Epoch 95/100\n",
      "11412/11412 [==============================] - 1s 92us/step - loss: 0.2911\n",
      "Epoch 96/100\n",
      "11412/11412 [==============================] - 1s 89us/step - loss: 0.2910\n",
      "Epoch 97/100\n",
      "11412/11412 [==============================] - 1s 88us/step - loss: 0.2910: 0s - loss: 0.29\n",
      "Epoch 98/100\n",
      "11412/11412 [==============================] - 1s 76us/step - loss: 0.2900\n",
      "Epoch 99/100\n",
      "11412/11412 [==============================] - 1s 88us/step - loss: 0.2904\n",
      "Epoch 100/100\n",
      "11412/11412 [==============================] - 1s 78us/step - loss: 0.2899\n"
     ]
    },
    {
     "data": {
      "image/png": "[encoded data removed]",
      "text/plain": [
       "<Figure size 936x576 with 1 Axes>"
      ]
     },
     "metadata": {
      "needs_background": "light"
     },
     "output_type": "display_data"
    }
   ],
   "source": [
    "model_mlp.compile(loss=keras.losses.categorical_crossentropy, \n",
    "                  optimizer=optimizers.SGD(lr=0.001, momentum=0.9, nesterov=True))\n",
    "\n",
    "history_mlp = model_mlp.fit(x_train, y_train, epochs=100, batch_size=32, verbose=1)\n",
    "\n",
    "plot_history(history_mlp)"
   ]
  },
  {
   "cell_type": "code",
   "execution_count": 245,
   "metadata": {},
   "outputs": [
    {
     "name": "stdout",
     "output_type": "stream",
     "text": [
      "7608/7608 [==============================] - 1s 149us/step\n"
     ]
    },
    {
     "data": {
      "text/plain": [
       "0.3273864924656981"
      ]
     },
     "execution_count": 245,
     "metadata": {},
     "output_type": "execute_result"
    }
   ],
   "source": [
    "# Evaluate your model\n",
    "model_mlp.evaluate(x_test, y_test)"
   ]
  },
  {
   "cell_type": "code",
   "execution_count": 246,
   "metadata": {},
   "outputs": [
    {
     "data": {
      "image/png": "[encoded data removed]",
      "text/plain": [
       "<Figure size 936x576 with 1 Axes>"
      ]
     },
     "metadata": {
      "needs_background": "light"
     },
     "output_type": "display_data"
    }
   ],
   "source": [
    "# Plot your loss\n",
    "plot_history(history_mlp)"
   ]
  },
  {
   "cell_type": "code",
   "execution_count": 247,
   "metadata": {},
   "outputs": [
    {
     "name": "stdout",
     "output_type": "stream",
     "text": [
      "_________________________________________________________________\n",
      "Layer (type)                 Output Shape              Param #   \n",
      "=================================================================\n",
      "dense_70 (Dense)             (None, 32)                352       \n",
      "_________________________________________________________________\n",
      "dense_71 (Dense)             (None, 32)                1056      \n",
      "_________________________________________________________________\n",
      "dense_72 (Dense)             (None, 2)                 66        \n",
      "=================================================================\n",
      "Total params: 1,474\n",
      "Trainable params: 1,474\n",
      "Non-trainable params: 0\n",
      "_________________________________________________________________\n"
     ]
    }
   ],
   "source": [
    "### Let's make it better\n",
    "### Let's build a new model and add another layer\n",
    "model_mlp = Sequential()\n",
    "\n",
    "\n",
    "# hidden layers\n",
    "model_mlp.add(Dense(input_dim=10, units=32, activation='relu'))\n",
    "model_mlp.add(Dense(units=32, activation='relu'))\n",
    "\n",
    "\n",
    "# classifier layer\n",
    "model_mlp.add(Dense(units=2, activation='softmax'))\n",
    "\n",
    "\n",
    "model_mlp.summary()"
   ]
  },
  {
   "cell_type": "code",
   "execution_count": 248,
   "metadata": {},
   "outputs": [],
   "source": [
    "model_mlp.compile(loss='categorical_crossentropy', optimizer=optimizers.Adam())"
   ]
  },
  {
   "cell_type": "code",
   "execution_count": 251,
   "metadata": {},
   "outputs": [
    {
     "name": "stdout",
     "output_type": "stream",
     "text": [
      "Epoch 1/50\n",
      "11412/11412 [==============================] - 1s 48us/step - loss: 0.2719\n",
      "Epoch 2/50\n",
      "11412/11412 [==============================] - 1s 47us/step - loss: 0.2710\n",
      "Epoch 3/50\n",
      "11412/11412 [==============================] - 1s 51us/step - loss: 0.2717\n",
      "Epoch 4/50\n",
      "11412/11412 [==============================] - 1s 49us/step - loss: 0.2698\n",
      "Epoch 5/50\n",
      "11412/11412 [==============================] - 1s 48us/step - loss: 0.2704\n",
      "Epoch 6/50\n",
      "11412/11412 [==============================] - 1s 47us/step - loss: 0.2705\n",
      "Epoch 7/50\n",
      "11412/11412 [==============================] - 1s 49us/step - loss: 0.2701\n",
      "Epoch 8/50\n",
      "11412/11412 [==============================] - 1s 54us/step - loss: 0.2694\n",
      "Epoch 9/50\n",
      "11412/11412 [==============================] - 1s 49us/step - loss: 0.2689\n",
      "Epoch 10/50\n",
      "11412/11412 [==============================] - 1s 50us/step - loss: 0.2697\n",
      "Epoch 11/50\n",
      "11412/11412 [==============================] - 1s 52us/step - loss: 0.2689\n",
      "Epoch 12/50\n",
      "11412/11412 [==============================] - 1s 49us/step - loss: 0.2681\n",
      "Epoch 13/50\n",
      "11412/11412 [==============================] - 1s 50us/step - loss: 0.2674\n",
      "Epoch 14/50\n",
      "11412/11412 [==============================] - 1s 49us/step - loss: 0.2669\n",
      "Epoch 15/50\n",
      "11412/11412 [==============================] - 1s 53us/step - loss: 0.2671\n",
      "Epoch 16/50\n",
      "11412/11412 [==============================] - 1s 55us/step - loss: 0.2680\n",
      "Epoch 17/50\n",
      "11412/11412 [==============================] - 1s 48us/step - loss: 0.2667\n",
      "Epoch 18/50\n",
      "11412/11412 [==============================] - 1s 51us/step - loss: 0.2671\n",
      "Epoch 19/50\n",
      "11412/11412 [==============================] - 1s 49us/step - loss: 0.2681\n",
      "Epoch 20/50\n",
      "11412/11412 [==============================] - 1s 51us/step - loss: 0.2661\n",
      "Epoch 21/50\n",
      "11412/11412 [==============================] - 1s 50us/step - loss: 0.2650\n",
      "Epoch 22/50\n",
      "11412/11412 [==============================] - 1s 50us/step - loss: 0.2659\n",
      "Epoch 23/50\n",
      "11412/11412 [==============================] - 1s 47us/step - loss: 0.2652\n",
      "Epoch 24/50\n",
      "11412/11412 [==============================] - 1s 48us/step - loss: 0.2656\n",
      "Epoch 25/50\n",
      "11412/11412 [==============================] - 1s 47us/step - loss: 0.2648\n",
      "Epoch 26/50\n",
      "11412/11412 [==============================] - 1s 50us/step - loss: 0.2639\n",
      "Epoch 27/50\n",
      "11412/11412 [==============================] - 1s 48us/step - loss: 0.2633\n",
      "Epoch 28/50\n",
      "11412/11412 [==============================] - 1s 47us/step - loss: 0.2631\n",
      "Epoch 29/50\n",
      "11412/11412 [==============================] - 1s 51us/step - loss: 0.2636\n",
      "Epoch 30/50\n",
      "11412/11412 [==============================] - 1s 48us/step - loss: 0.2637\n",
      "Epoch 31/50\n",
      "11412/11412 [==============================] - 1s 44us/step - loss: 0.2623\n",
      "Epoch 32/50\n",
      "11412/11412 [==============================] - 1s 46us/step - loss: 0.2620\n",
      "Epoch 33/50\n",
      "11412/11412 [==============================] - 1s 46us/step - loss: 0.2618\n",
      "Epoch 34/50\n",
      "11412/11412 [==============================] - 1s 45us/step - loss: 0.2621\n",
      "Epoch 35/50\n",
      "11412/11412 [==============================] - 1s 49us/step - loss: 0.2611\n",
      "Epoch 36/50\n",
      "11412/11412 [==============================] - 1s 47us/step - loss: 0.2609\n",
      "Epoch 37/50\n",
      "11412/11412 [==============================] - 0s 39us/step - loss: 0.2612\n",
      "Epoch 38/50\n",
      "11412/11412 [==============================] - 0s 43us/step - loss: 0.2614\n",
      "Epoch 39/50\n",
      "11412/11412 [==============================] - 0s 37us/step - loss: 0.2609\n",
      "Epoch 40/50\n",
      "11412/11412 [==============================] - 1s 45us/step - loss: 0.2602\n",
      "Epoch 41/50\n",
      "11412/11412 [==============================] - 1s 50us/step - loss: 0.2596\n",
      "Epoch 42/50\n",
      "11412/11412 [==============================] - 1s 57us/step - loss: 0.2590\n",
      "Epoch 43/50\n",
      "11412/11412 [==============================] - 1s 51us/step - loss: 0.2596\n",
      "Epoch 44/50\n",
      "11412/11412 [==============================] - 1s 59us/step - loss: 0.2596\n",
      "Epoch 45/50\n",
      "11412/11412 [==============================] - 1s 55us/step - loss: 0.2585\n",
      "Epoch 46/50\n",
      "11412/11412 [==============================] - 1s 59us/step - loss: 0.2590\n",
      "Epoch 47/50\n",
      "11412/11412 [==============================] - 1s 59us/step - loss: 0.2589\n",
      "Epoch 48/50\n",
      "11412/11412 [==============================] - 1s 59us/step - loss: 0.2589\n",
      "Epoch 49/50\n",
      "11412/11412 [==============================] - 1s 54us/step - loss: 0.2591\n",
      "Epoch 50/50\n",
      "11412/11412 [==============================] - 1s 60us/step - loss: 0.2588: 0s - loss: 0\n"
     ]
    }
   ],
   "source": [
    "history_mlp = model_mlp.fit(x_train, y_train, batch_size=64, epochs=50)"
   ]
  },
  {
   "cell_type": "code",
   "execution_count": 252,
   "metadata": {},
   "outputs": [
    {
     "data": {
      "image/png": "[encoded data removed]",
      "text/plain": [
       "<Figure size 936x576 with 1 Axes>"
      ]
     },
     "metadata": {
      "needs_background": "light"
     },
     "output_type": "display_data"
    }
   ],
   "source": [
    "plot_history(history_mlp)"
   ]
  },
  {
   "cell_type": "code",
   "execution_count": 253,
   "metadata": {},
   "outputs": [
    {
     "name": "stdout",
     "output_type": "stream",
     "text": [
      "7608/7608 [==============================] - 1s 197us/step\n"
     ]
    },
    {
     "data": {
      "text/plain": [
       "0.33382856247302234"
      ]
     },
     "execution_count": 253,
     "metadata": {},
     "output_type": "execute_result"
    }
   ],
   "source": [
    "model_mlp.evaluate(x_test, y_test)"
   ]
  },
  {
   "cell_type": "code",
   "execution_count": 254,
   "metadata": {},
   "outputs": [
    {
     "data": {
      "text/plain": [
       "array([0.86119874])"
      ]
     },
     "execution_count": 254,
     "metadata": {},
     "output_type": "execute_result"
    }
   ],
   "source": [
    "probs = model_mlp.predict(x_test)\n",
    "predictions = np.argmax(probs, axis=1)\n",
    "np.sum(predictions  == np.argmax(y_test, axis=1)) / predictions.shape"
   ]
  },
  {
   "cell_type": "code",
   "execution_count": 257,
   "metadata": {},
   "outputs": [
    {
     "name": "stdout",
     "output_type": "stream",
     "text": [
      "              precision    recall  f1-score   support\n",
      "\n",
      "           0       0.87      0.92      0.90      4889\n",
      "           1       0.84      0.75      0.79      2719\n",
      "\n",
      "    accuracy                           0.86      7608\n",
      "   macro avg       0.86      0.84      0.84      7608\n",
      "weighted avg       0.86      0.86      0.86      7608\n",
      "\n"
     ]
    }
   ],
   "source": [
    "print(classification_report(y_test.argmax(axis=1), predictions))"
   ]
  }
 ],
 "metadata": {
  "kernelspec": {
   "display_name": "Python 3",
   "language": "python",
   "name": "python3"
  },
  "language_info": {
   "codemirror_mode": {
    "name": "ipython",
    "version": 3
   },
   "file_extension": ".py",
   "mimetype": "text/x-python",
   "name": "python",
   "nbconvert_exporter": "python",
   "pygments_lexer": "ipython3",
   "version": "3.7.3"
  },
  "toc": {
   "base_numbering": 1,
   "nav_menu": {},
   "number_sections": true,
   "sideBar": true,
   "skip_h1_title": false,
   "title_cell": "Table of Contents",
   "title_sidebar": "Contents",
   "toc_cell": false,
   "toc_position": {},
   "toc_section_display": true,
   "toc_window_display": false
  },
  "varInspector": {
   "cols": {
    "lenName": 16,
    "lenType": 16,
    "lenVar": 40
   },
   "kernels_config": {
    "python": {
     "delete_cmd_postfix": "",
     "delete_cmd_prefix": "del ",
     "library": "var_list.py",
     "varRefreshCmd": "print(var_dic_list())"
    },
    "r": {
     "delete_cmd_postfix": ") ",
     "delete_cmd_prefix": "rm(",
     "library": "var_list.r",
     "varRefreshCmd": "cat(var_dic_list()) "
    }
   },
   "types_to_exclude": [
    "module",
    "function",
    "builtin_function_or_method",
    "instance",
    "_Feature"
   ],
   "window_display": false
  }
 },
 "nbformat": 4,
 "nbformat_minor": 2
}
