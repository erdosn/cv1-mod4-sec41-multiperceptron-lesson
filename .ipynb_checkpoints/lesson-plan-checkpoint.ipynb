{
 "cells": [
  {
   "cell_type": "markdown",
   "metadata": {},
   "source": [
    "Most of this code can be found at <a href='https://keras.io'>keras.io</a>"
   ]
  },
  {
   "cell_type": "markdown",
   "metadata": {},
   "source": [
    "## Questions\n",
    "\n",
    "\n",
    "## Objectives \n",
    "YWBAT \n",
    "- build a neural network using keras\n",
    "- compare models based on their depth\n",
    "- *choose the best optimizer for a model*"
   ]
  },
  {
   "cell_type": "markdown",
   "metadata": {},
   "source": [
    "# Useful Imports"
   ]
  },
  {
   "cell_type": "code",
   "execution_count": 28,
   "metadata": {
    "ExecuteTime": {
     "end_time": "2019-06-18T16:18:12.782645Z",
     "start_time": "2019-06-18T16:18:11.185732Z"
    }
   },
   "outputs": [],
   "source": [
    "import keras\n",
    "import numpy as np\n",
    "\n",
    "import matplotlib.pyplot as plt"
   ]
  },
  {
   "cell_type": "code",
   "execution_count": 2,
   "metadata": {
    "ExecuteTime": {
     "end_time": "2019-06-18T16:18:13.087187Z",
     "start_time": "2019-06-18T16:18:13.082385Z"
    }
   },
   "outputs": [],
   "source": [
    "from keras import models\n",
    "from keras import layers\n",
    "from keras import optimizers"
   ]
  },
  {
   "cell_type": "markdown",
   "metadata": {},
   "source": [
    "# Obtaining Dataset & Train-Test Split"
   ]
  },
  {
   "cell_type": "markdown",
   "metadata": {},
   "source": [
    "Nothing different from training other models"
   ]
  },
  {
   "cell_type": "code",
   "execution_count": 3,
   "metadata": {
    "ExecuteTime": {
     "end_time": "2019-06-18T16:18:13.048684Z",
     "start_time": "2019-06-18T16:18:12.784941Z"
    }
   },
   "outputs": [
    {
     "name": "stderr",
     "output_type": "stream",
     "text": [
      "/anaconda3/lib/python3.7/site-packages/sklearn/preprocessing/_encoders.py:415: FutureWarning: The handling of integer data will change in version 0.22. Currently, the categories are determined based on the range [0, max(values)], while in the future they will be determined based on the unique values.\n",
      "If you want the future behaviour and silence this warning, you can specify \"categories='auto'\".\n",
      "In case you used a LabelEncoder before this OneHotEncoder to convert the categories to integers, then you can now use the OneHotEncoder directly.\n",
      "  warnings.warn(msg, FutureWarning)\n"
     ]
    }
   ],
   "source": [
    "from sklearn.datasets import load_iris\n",
    "from sklearn.model_selection import train_test_split\n",
    "from sklearn.preprocessing import OneHotEncoder, StandardScaler\n",
    "\n",
    "iris = load_iris()\n",
    "x = iris['data']\n",
    "y = iris['target']\n",
    "names = iris['target_names']\n",
    "feature_names = iris['feature_names']\n",
    "\n",
    "# One hot encoding\n",
    "enc = OneHotEncoder()\n",
    "y = enc.fit_transform(y[:, np.newaxis]).toarray()\n",
    "\n",
    "# Scale data to have mean 0 and variance 1 \n",
    "# which is importance for convergence of the neural network\n",
    "scaler = StandardScaler()\n",
    "x_scaled = scaler.fit_transform(x)\n",
    "\n",
    "# Split the data set into training and testing\n",
    "x_train, x_test, y_train, y_test = train_test_split(x_scaled, y, test_size=0.4, random_state=2)"
   ]
  },
  {
   "cell_type": "markdown",
   "metadata": {},
   "source": [
    "# Creating a Neural Network"
   ]
  },
  {
   "cell_type": "markdown",
   "metadata": {},
   "source": [
    "`Sequential` is referring to the neural networks we've observed. There are other neural network models that will go beyond this class."
   ]
  },
  {
   "cell_type": "code",
   "execution_count": 116,
   "metadata": {
    "ExecuteTime": {
     "end_time": "2019-06-18T16:18:13.126356Z",
     "start_time": "2019-06-18T16:18:13.090188Z"
    }
   },
   "outputs": [],
   "source": [
    "from keras.models import Sequential\n",
    "\n",
    "model = Sequential()"
   ]
  },
  {
   "cell_type": "markdown",
   "metadata": {},
   "source": [
    "The actual network; we can decide how many layers & nodes for each layer here as well as other hyperparameters like the activation function."
   ]
  },
  {
   "cell_type": "code",
   "execution_count": 117,
   "metadata": {
    "ExecuteTime": {
     "end_time": "2019-06-18T19:28:01.843032Z",
     "start_time": "2019-06-18T19:27:59.181321Z"
    }
   },
   "outputs": [],
   "source": [
    "from keras.layers import Dense\n",
    "\n",
    "model.add(Dense(units=4, activation='relu', input_dim=4))\n",
    "model.add(Dense(units=3, activation='softmax'))"
   ]
  },
  {
   "cell_type": "markdown",
   "metadata": {},
   "source": [
    "Compile the model to a form that the computer can more easily work with"
   ]
  },
  {
   "cell_type": "code",
   "execution_count": 118,
   "metadata": {
    "ExecuteTime": {
     "end_time": "2019-06-18T16:18:13.223984Z",
     "start_time": "2019-06-18T16:18:13.187420Z"
    }
   },
   "outputs": [],
   "source": [
    "model.compile(loss=keras.losses.categorical_crossentropy, \n",
    "              optimizer=optimizers.SGD(lr=0.001, momentum=0.9, nesterov=True))"
   ]
  },
  {
   "cell_type": "markdown",
   "metadata": {},
   "source": [
    "# Using the Model"
   ]
  },
  {
   "cell_type": "markdown",
   "metadata": {},
   "source": [
    "Using the model structure, we do sequences of feedfoward and then backpropagation to adjust the weights and biases (training/fitting)"
   ]
  },
  {
   "cell_type": "code",
   "execution_count": 119,
   "metadata": {
    "ExecuteTime": {
     "end_time": "2019-06-18T16:18:23.443468Z",
     "start_time": "2019-06-18T16:18:13.227101Z"
    },
    "scrolled": false
   },
   "outputs": [
    {
     "name": "stdout",
     "output_type": "stream",
     "text": [
      "Epoch 1/100\n",
      "90/90 [==============================] - 1s 16ms/step - loss: 1.1093\n",
      "Epoch 2/100\n",
      "90/90 [==============================] - 0s 103us/step - loss: 1.0959\n",
      "Epoch 3/100\n",
      "90/90 [==============================] - 0s 123us/step - loss: 1.0781\n",
      "Epoch 4/100\n",
      "90/90 [==============================] - 0s 143us/step - loss: 1.0570\n",
      "Epoch 5/100\n",
      "90/90 [==============================] - 0s 135us/step - loss: 1.0365\n",
      "Epoch 6/100\n",
      "90/90 [==============================] - 0s 153us/step - loss: 1.0160\n",
      "Epoch 7/100\n",
      "90/90 [==============================] - 0s 156us/step - loss: 0.9967\n",
      "Epoch 8/100\n",
      "90/90 [==============================] - 0s 153us/step - loss: 0.9777\n",
      "Epoch 9/100\n",
      "90/90 [==============================] - 0s 155us/step - loss: 0.9605\n",
      "Epoch 10/100\n",
      "90/90 [==============================] - 0s 150us/step - loss: 0.9436\n",
      "Epoch 11/100\n",
      "90/90 [==============================] - 0s 141us/step - loss: 0.9283\n",
      "Epoch 12/100\n",
      "90/90 [==============================] - 0s 139us/step - loss: 0.9130\n",
      "Epoch 13/100\n",
      "90/90 [==============================] - 0s 146us/step - loss: 0.8989\n",
      "Epoch 14/100\n",
      "90/90 [==============================] - 0s 141us/step - loss: 0.8860\n",
      "Epoch 15/100\n",
      "90/90 [==============================] - 0s 143us/step - loss: 0.8736\n",
      "Epoch 16/100\n",
      "90/90 [==============================] - 0s 137us/step - loss: 0.8612\n",
      "Epoch 17/100\n",
      "90/90 [==============================] - 0s 155us/step - loss: 0.8501\n",
      "Epoch 18/100\n",
      "90/90 [==============================] - 0s 146us/step - loss: 0.8386\n",
      "Epoch 19/100\n",
      "90/90 [==============================] - 0s 150us/step - loss: 0.8282\n",
      "Epoch 20/100\n",
      "90/90 [==============================] - 0s 134us/step - loss: 0.8176\n",
      "Epoch 21/100\n",
      "90/90 [==============================] - 0s 160us/step - loss: 0.8079\n",
      "Epoch 22/100\n",
      "90/90 [==============================] - 0s 156us/step - loss: 0.7987\n",
      "Epoch 23/100\n",
      "90/90 [==============================] - 0s 145us/step - loss: 0.7891\n",
      "Epoch 24/100\n",
      "90/90 [==============================] - 0s 145us/step - loss: 0.7803\n",
      "Epoch 25/100\n",
      "90/90 [==============================] - 0s 138us/step - loss: 0.7716\n",
      "Epoch 26/100\n",
      "90/90 [==============================] - 0s 140us/step - loss: 0.7635\n",
      "Epoch 27/100\n",
      "90/90 [==============================] - 0s 147us/step - loss: 0.7553\n",
      "Epoch 28/100\n",
      "90/90 [==============================] - 0s 158us/step - loss: 0.7476\n",
      "Epoch 29/100\n",
      "90/90 [==============================] - 0s 140us/step - loss: 0.7403\n",
      "Epoch 30/100\n",
      "90/90 [==============================] - 0s 141us/step - loss: 0.7330\n",
      "Epoch 31/100\n",
      "90/90 [==============================] - 0s 146us/step - loss: 0.7262\n",
      "Epoch 32/100\n",
      "90/90 [==============================] - 0s 122us/step - loss: 0.7194\n",
      "Epoch 33/100\n",
      "90/90 [==============================] - 0s 158us/step - loss: 0.7132\n",
      "Epoch 34/100\n",
      "90/90 [==============================] - 0s 133us/step - loss: 0.7068\n",
      "Epoch 35/100\n",
      "90/90 [==============================] - 0s 143us/step - loss: 0.7008\n",
      "Epoch 36/100\n",
      "90/90 [==============================] - 0s 124us/step - loss: 0.6950\n",
      "Epoch 37/100\n",
      "90/90 [==============================] - 0s 140us/step - loss: 0.6891\n",
      "Epoch 38/100\n",
      "90/90 [==============================] - 0s 138us/step - loss: 0.6837\n",
      "Epoch 39/100\n",
      "90/90 [==============================] - 0s 141us/step - loss: 0.6783\n",
      "Epoch 40/100\n",
      "90/90 [==============================] - 0s 134us/step - loss: 0.6731\n",
      "Epoch 41/100\n",
      "90/90 [==============================] - 0s 137us/step - loss: 0.6681\n",
      "Epoch 42/100\n",
      "90/90 [==============================] - 0s 139us/step - loss: 0.6634\n",
      "Epoch 43/100\n",
      "90/90 [==============================] - 0s 130us/step - loss: 0.6585\n",
      "Epoch 44/100\n",
      "90/90 [==============================] - 0s 133us/step - loss: 0.6542\n",
      "Epoch 45/100\n",
      "90/90 [==============================] - 0s 148us/step - loss: 0.6499\n",
      "Epoch 46/100\n",
      "90/90 [==============================] - 0s 136us/step - loss: 0.6459\n",
      "Epoch 47/100\n",
      "90/90 [==============================] - 0s 145us/step - loss: 0.6419\n",
      "Epoch 48/100\n",
      "90/90 [==============================] - 0s 124us/step - loss: 0.6380\n",
      "Epoch 49/100\n",
      "90/90 [==============================] - 0s 138us/step - loss: 0.6343\n",
      "Epoch 50/100\n",
      "90/90 [==============================] - 0s 137us/step - loss: 0.6307\n",
      "Epoch 51/100\n",
      "90/90 [==============================] - 0s 152us/step - loss: 0.6270\n",
      "Epoch 52/100\n",
      "90/90 [==============================] - 0s 145us/step - loss: 0.6236\n",
      "Epoch 53/100\n",
      "90/90 [==============================] - 0s 132us/step - loss: 0.6202\n",
      "Epoch 54/100\n",
      "90/90 [==============================] - 0s 142us/step - loss: 0.6169\n",
      "Epoch 55/100\n",
      "90/90 [==============================] - 0s 135us/step - loss: 0.6135\n",
      "Epoch 56/100\n",
      "90/90 [==============================] - 0s 132us/step - loss: 0.6104\n",
      "Epoch 57/100\n",
      "90/90 [==============================] - 0s 129us/step - loss: 0.6073\n",
      "Epoch 58/100\n",
      "90/90 [==============================] - 0s 145us/step - loss: 0.6041\n",
      "Epoch 59/100\n",
      "90/90 [==============================] - 0s 152us/step - loss: 0.6012\n",
      "Epoch 60/100\n",
      "90/90 [==============================] - 0s 151us/step - loss: 0.5982\n",
      "Epoch 61/100\n",
      "90/90 [==============================] - 0s 129us/step - loss: 0.5955\n",
      "Epoch 62/100\n",
      "90/90 [==============================] - 0s 131us/step - loss: 0.5926\n",
      "Epoch 63/100\n",
      "90/90 [==============================] - 0s 131us/step - loss: 0.5899\n",
      "Epoch 64/100\n",
      "90/90 [==============================] - 0s 140us/step - loss: 0.5872\n",
      "Epoch 65/100\n",
      "90/90 [==============================] - 0s 132us/step - loss: 0.5845\n",
      "Epoch 66/100\n",
      "90/90 [==============================] - 0s 127us/step - loss: 0.5818\n",
      "Epoch 67/100\n",
      "90/90 [==============================] - 0s 133us/step - loss: 0.5795\n",
      "Epoch 68/100\n",
      "90/90 [==============================] - 0s 136us/step - loss: 0.5769\n",
      "Epoch 69/100\n",
      "90/90 [==============================] - 0s 148us/step - loss: 0.5743\n",
      "Epoch 70/100\n",
      "90/90 [==============================] - 0s 146us/step - loss: 0.5720\n",
      "Epoch 71/100\n",
      "90/90 [==============================] - 0s 153us/step - loss: 0.5696\n",
      "Epoch 72/100\n",
      "90/90 [==============================] - 0s 137us/step - loss: 0.5672\n",
      "Epoch 73/100\n",
      "90/90 [==============================] - 0s 133us/step - loss: 0.5650\n",
      "Epoch 74/100\n",
      "90/90 [==============================] - 0s 137us/step - loss: 0.5627\n",
      "Epoch 75/100\n",
      "90/90 [==============================] - 0s 124us/step - loss: 0.5605\n",
      "Epoch 76/100\n",
      "90/90 [==============================] - 0s 136us/step - loss: 0.5583\n",
      "Epoch 77/100\n",
      "90/90 [==============================] - 0s 126us/step - loss: 0.5562\n",
      "Epoch 78/100\n",
      "90/90 [==============================] - 0s 154us/step - loss: 0.5540\n",
      "Epoch 79/100\n",
      "90/90 [==============================] - 0s 117us/step - loss: 0.5519\n",
      "Epoch 80/100\n",
      "90/90 [==============================] - 0s 137us/step - loss: 0.5499\n",
      "Epoch 81/100\n",
      "90/90 [==============================] - 0s 137us/step - loss: 0.5478\n",
      "Epoch 82/100\n",
      "90/90 [==============================] - 0s 135us/step - loss: 0.5457\n",
      "Epoch 83/100\n",
      "90/90 [==============================] - 0s 149us/step - loss: 0.5437\n",
      "Epoch 84/100\n",
      "90/90 [==============================] - 0s 166us/step - loss: 0.5418\n",
      "Epoch 85/100\n",
      "90/90 [==============================] - 0s 118us/step - loss: 0.5400\n",
      "Epoch 86/100\n",
      "90/90 [==============================] - 0s 120us/step - loss: 0.5381\n",
      "Epoch 87/100\n",
      "90/90 [==============================] - 0s 132us/step - loss: 0.5363\n",
      "Epoch 88/100\n",
      "90/90 [==============================] - 0s 128us/step - loss: 0.5345\n",
      "Epoch 89/100\n",
      "90/90 [==============================] - 0s 159us/step - loss: 0.5327\n",
      "Epoch 90/100\n",
      "90/90 [==============================] - 0s 161us/step - loss: 0.5309\n",
      "Epoch 91/100\n",
      "90/90 [==============================] - 0s 136us/step - loss: 0.5292\n",
      "Epoch 92/100\n",
      "90/90 [==============================] - 0s 129us/step - loss: 0.5275\n",
      "Epoch 93/100\n",
      "90/90 [==============================] - 0s 123us/step - loss: 0.5258\n",
      "Epoch 94/100\n",
      "90/90 [==============================] - 0s 155us/step - loss: 0.5242\n",
      "Epoch 95/100\n",
      "90/90 [==============================] - 0s 139us/step - loss: 0.5224\n",
      "Epoch 96/100\n",
      "90/90 [==============================] - 0s 120us/step - loss: 0.5208\n",
      "Epoch 97/100\n",
      "90/90 [==============================] - 0s 153us/step - loss: 0.5192\n",
      "Epoch 98/100\n",
      "90/90 [==============================] - 0s 128us/step - loss: 0.5176\n",
      "Epoch 99/100\n"
     ]
    },
    {
     "name": "stdout",
     "output_type": "stream",
     "text": [
      "90/90 [==============================] - 0s 129us/step - loss: 0.5162\n",
      "Epoch 100/100\n",
      "90/90 [==============================] - 0s 148us/step - loss: 0.5145\n"
     ]
    }
   ],
   "source": [
    "history = model.fit(x_train, y_train, epochs=100, batch_size=16, verbose=1)"
   ]
  },
  {
   "cell_type": "code",
   "execution_count": 120,
   "metadata": {},
   "outputs": [
    {
     "data": {
      "image/png": "[encoded data removed]",
      "text/plain": [
       "<Figure size 936x576 with 1 Axes>"
      ]
     },
     "metadata": {
      "needs_background": "light"
     },
     "output_type": "display_data"
    }
   ],
   "source": [
    "def plot_history(history, figsize=(13, 8), color='purple', s=50, alpha=0.5):\n",
    "    plt.figure(figsize=figsize)\n",
    "    plt.grid(zorder=0, linestyle='--')\n",
    "    plt.scatter(history.epoch, history.history[\"loss\"], c=color, s=s, alpha=alpha)\n",
    "    plt.xlabel(\"epochs\")\n",
    "    plt.ylabel(\"loss\")\n",
    "    plt.show()\n",
    "    \n",
    "    \n",
    "plot_history(history)"
   ]
  },
  {
   "cell_type": "code",
   "execution_count": 121,
   "metadata": {},
   "outputs": [
    {
     "name": "stdout",
     "output_type": "stream",
     "text": [
      "_________________________________________________________________\n",
      "Layer (type)                 Output Shape              Param #   \n",
      "=================================================================\n",
      "dense_39 (Dense)             (None, 4)                 20        \n",
      "_________________________________________________________________\n",
      "dense_40 (Dense)             (None, 4)                 20        \n",
      "_________________________________________________________________\n",
      "dense_41 (Dense)             (None, 3)                 15        \n",
      "=================================================================\n",
      "Total params: 55\n",
      "Trainable params: 55\n",
      "Non-trainable params: 0\n",
      "_________________________________________________________________\n"
     ]
    }
   ],
   "source": [
    "### Let's build a new model and add another layer\n",
    "model_mlp = Sequential()\n",
    "\n",
    "model_mlp.add(Dense(input_dim=4, units=4, activation='relu'))\n",
    "model_mlp.add(Dense(units=4, activation='relu'))\n",
    "model_mlp.add(Dense(units=3, activation='softmax'))\n",
    "\n",
    "model_mlp.summary()"
   ]
  },
  {
   "cell_type": "code",
   "execution_count": 122,
   "metadata": {},
   "outputs": [
    {
     "data": {
      "image/png": "[encoded data removed]",
      "text/plain": [
       "<Figure size 936x576 with 1 Axes>"
      ]
     },
     "metadata": {
      "needs_background": "light"
     },
     "output_type": "display_data"
    }
   ],
   "source": [
    "model_mlp.compile(loss=keras.losses.categorical_crossentropy, \n",
    "              optimizer=optimizers.SGD(lr=0.001, momentum=0.9, nesterov=True))\n",
    "\n",
    "history_mlp = model_mlp.fit(x_train, y_train, epochs=100, batch_size=16, verbose=0)\n",
    "\n",
    "plot_history(history_mlp)"
   ]
  },
  {
   "cell_type": "markdown",
   "metadata": {},
   "source": [
    "#### Add another layer and plot the loss"
   ]
  },
  {
   "cell_type": "code",
   "execution_count": null,
   "metadata": {},
   "outputs": [],
   "source": []
  },
  {
   "cell_type": "code",
   "execution_count": null,
   "metadata": {},
   "outputs": [],
   "source": []
  },
  {
   "cell_type": "code",
   "execution_count": 75,
   "metadata": {},
   "outputs": [],
   "source": [
    "optimizer_dict = {\"adam_001\": {\"optimizer\": optimizers.Adam(), \"color\": \"blue\"},\n",
    "                  \"adam_01\": {\"optimizer\": optimizers.Adam(lr=0.01), \"color\": \"orange\"},\n",
    "                  \"sgd_nag\": {\"optimizer\": optimizers.SGD(lr=0.001, momentum=0.9, nesterov=True), \"color\": \"pink\"},\n",
    "                  \"sgd\": {\"optimizer\": optimizers.SGD(lr=0.001), \"color\": \"red\"},\n",
    "                  \"adagrad\": {\"optimizer\": optimizers.Adagrad(), \"color\": \"yellow\"},\n",
    "                  \"adadelta\": {\"optimizer\": optimizers.Adadelta(), \"color\": \"teal\"}}"
   ]
  },
  {
   "cell_type": "code",
   "execution_count": 76,
   "metadata": {},
   "outputs": [
    {
     "name": "stdout",
     "output_type": "stream",
     "text": [
      "Finished fitting adam_001 optimizer\n",
      "Finished fitting adam_01 optimizer\n",
      "Finished fitting sgd_nag optimizer\n",
      "Finished fitting sgd optimizer\n",
      "Finished fitting adagrad optimizer\n",
      "Finished fitting adadelta optimizer\n"
     ]
    }
   ],
   "source": [
    "for label, optimizer in optimizer_dict.items():\n",
    "    # Build Model\n",
    "    model = Sequential()\n",
    "    model.add(Dense(units=4, activation='relu', input_dim=4))\n",
    "    model.add(Dense(units=3, activation='softmax'))\n",
    "    \n",
    "    # compile model\n",
    "    model.compile(loss=keras.losses.categorical_crossentropy, optimizer=optimizer['optimizer'])\n",
    "    \n",
    "    # train our model and get our history\n",
    "    history = model.fit(x_train, y_train, epochs=30, batch_size=16, verbose=0)\n",
    "    \n",
    "    # store history to our dictionary\n",
    "    optimizer_dict[label]['history'] = history\n",
    "    print(f\"Finished fitting {label} optimizer\")"
   ]
  },
  {
   "cell_type": "code",
   "execution_count": 77,
   "metadata": {},
   "outputs": [
    {
     "name": "stdout",
     "output_type": "stream",
     "text": [
      "[0.04640524879925781, 0.045607525524165894, 0.044816846566067804, 0.04406960581739743, 0.043331541700495614, 0.042654947067300476, 0.04198370907041762, 0.04134733254710833, 0.04072702369756169, 0.040095601148075526, 0.039514900205863845, 0.038957615858978695, 0.038385314494371416, 0.037849172039164436, 0.03731388201316198, 0.03680623314446873, 0.03629430904984474, 0.03580346902211507, 0.03534379013710552, 0.03487841884295146, 0.0344382293522358, 0.033995377872553134, 0.03356133765644497, 0.03313358798623085, 0.032736242810885115, 0.03233198672533035, 0.03195479628112581, 0.031570883964498836, 0.0311877503991127, 0.030829539977841908]\n",
      "[0.028932872745725844, 0.02505389584435357, 0.022147601884272363, 0.01963811201146907, 0.017682903580781485, 0.015874392456478544, 0.014460977870557043, 0.013149045449164178, 0.012057907858656512, 0.01119817186974817, 0.010294980721341239, 0.009549889175428285, 0.008941159656064377, 0.008307640409717957, 0.007778226646284262, 0.007301176846441295, 0.006871558705137836, 0.0065099394673274625, 0.006168034341600206, 0.005827133711944852, 0.005526061997645431, 0.005241668017374144, 0.005002025411360794, 0.004768435129274925, 0.004546412447881367, 0.004350807952384154, 0.004169209125555224, 0.003989735214660565, 0.003831561716894309, 0.003673320460236735]\n",
      "[0.003589760100779434, 0.003589180153277185, 0.0035883384860224193, 0.0035873834871583514, 0.0035863347868952487, 0.003585183510505077, 0.0035841368345750704, 0.0035829924667874972, 0.0035818415021316875, 0.0035807794580856958, 0.003579623102106982, 0.0035784395256390172, 0.0035773677234020498, 0.0035762808803055024, 0.003575206134054396, 0.0035740746185183524, 0.0035730111516184275, 0.0035718858112684555, 0.0035707908579044874, 0.0035697222583823732, 0.003568530268967152, 0.0035674849680314463, 0.003566278496550189, 0.0035651929366091887, 0.003564021358680394, 0.003562931799226337, 0.003561830427497625, 0.0035607239852348963, 0.0035597773120065943, 0.0035585010941657754]\n",
      "[0.0035578339567614928, 0.0035577162065439753, 0.0035576077074640326, 0.003557492694300082, 0.0035573869115776485, 0.003557276404980156, 0.003557169432234433, 0.0035570628630618253, 0.0035569536499679088, 0.003556837203601996, 0.0035567261278629304, 0.003556619682866666, 0.0035565171908173297, 0.0035564232824577225, 0.0035562994579474132, 0.003556191031303671, 0.0035560797486040327, 0.003555967720846335, 0.003555845877983504, 0.0035557368201100162, 0.0035556322791510156, 0.003555525177054935, 0.003555417402336995, 0.0035553070509599313, 0.003555199938515822, 0.0035550827425645873, 0.0035549818020727897, 0.0035548711712989544, 0.0035547667493422827, 0.003554652848591407]\n",
      "[0.0034422107144362396, 0.0032679150708847574, 0.003158580439372195, 0.0030773037527170445, 0.0030083036981523037, 0.0029498069547116757, 0.0028961346846901707, 0.0028487442268265617, 0.002806467531869809, 0.0027650607439378898, 0.0027284122977612748, 0.002695365497169809, 0.002664067127948834, 0.0026344534734057054, 0.0026046039847036203, 0.002575652441009879, 0.0025497332577490146, 0.0025242836732003423, 0.002499532565060589, 0.002474924890945355, 0.0024521833958311215, 0.002430159960769945, 0.002408978017047048, 0.0023881763737234806, 0.0023682498631791937, 0.002349313193311294, 0.0023303234639267126, 0.0023129643303238683, 0.002295393527795871, 0.0022783055409996045]\n",
      "[0.0022582572677897084, 0.0022336400139869915, 0.0022090612134585776, 0.0021844682128479083, 0.002161382146490117, 0.0021381796699845128, 0.0021145921252253984, 0.0020919090499066646, 0.002068888923774163, 0.0020464867948450974, 0.0020244029143618213, 0.002002139793088039, 0.001979518461868995, 0.0019590608879095977, 0.001937863124637968, 0.001917665410372946, 0.0018971250858157874, 0.0018772197369900014, 0.0018573920824564993, 0.001838753946746389, 0.0018198831491948416, 0.0018009886714733308, 0.0017832434089440439, 0.0017655885416186518, 0.0017476741793668931, 0.00172966496191091, 0.0017121421263760163, 0.0016959888588947555, 0.0016793619867207276, 0.0016628457078089317]\n"
     ]
    },
    {
     "data": {
      "image/png": "[encoded data removed]",
      "text/plain": [
       "<Figure size 1440x720 with 1 Axes>"
      ]
     },
     "metadata": {
      "needs_background": "light"
     },
     "output_type": "display_data"
    }
   ],
   "source": [
    "plt.figure(figsize=(20, 10))\n",
    "for label, optdict in optimizer_dict.items():\n",
    "    history = optdict['history']\n",
    "    color = optdict[\"color\"]\n",
    "    plt.scatter(history.epoch, history.history[\"loss\"], alpha=0.5, color=color, label=label, s=100)\n",
    "    print(history.history[\"loss\"])\n",
    "plt.legend()\n",
    "plt.title(\"Loss vs Epoch\\nFor Various Optimizers\")\n",
    "plt.show()"
   ]
  },
  {
   "cell_type": "code",
   "execution_count": 8,
   "metadata": {
    "ExecuteTime": {
     "end_time": "2019-06-18T19:31:59.446967Z",
     "start_time": "2019-06-18T19:31:59.444674Z"
    },
    "scrolled": false
   },
   "outputs": [],
   "source": [
    "# alternatively could have specified a specific batch to train on\n",
    "# model.train_on_batch(x_batch, y_batch)"
   ]
  },
  {
   "cell_type": "markdown",
   "metadata": {},
   "source": [
    "# Evaluating the Trained Model"
   ]
  },
  {
   "cell_type": "markdown",
   "metadata": {},
   "source": [
    "We can look at the overall loss from our test data after training the model was trained"
   ]
  },
  {
   "cell_type": "code",
   "execution_count": 18,
   "metadata": {
    "ExecuteTime": {
     "end_time": "2019-06-18T16:18:23.607022Z",
     "start_time": "2019-06-18T16:18:23.453388Z"
    }
   },
   "outputs": [
    {
     "name": "stdout",
     "output_type": "stream",
     "text": [
      "60/60 [==============================] - 0s 38us/step\n"
     ]
    },
    {
     "data": {
      "text/plain": [
       "0.12374646763006845"
      ]
     },
     "execution_count": 18,
     "metadata": {},
     "output_type": "execute_result"
    }
   ],
   "source": [
    "# Could also just use a batch to evaluate\n",
    "# loss_and_metrics = model.evaluate(x_test, y_test, batch_size=16)\n",
    "loss_and_metrics = model.evaluate(x_test, y_test)\n",
    "\n",
    "loss_and_metrics"
   ]
  },
  {
   "cell_type": "markdown",
   "metadata": {},
   "source": [
    "We can have predictions (probability the data point is a particular class based on our trained model)"
   ]
  },
  {
   "cell_type": "code",
   "execution_count": 20,
   "metadata": {
    "ExecuteTime": {
     "end_time": "2019-06-18T16:18:23.701142Z",
     "start_time": "2019-06-18T16:18:23.613540Z"
    },
    "scrolled": true
   },
   "outputs": [
    {
     "data": {
      "text/plain": [
       "array([[9.83704627e-01, 1.57465991e-02, 5.48841897e-04],\n",
       "       [9.88414645e-01, 1.13545572e-02, 2.30795253e-04],\n",
       "       [4.83600445e-07, 2.06313543e-02, 9.79368210e-01],\n",
       "       [9.77884471e-01, 2.18411200e-02, 2.74449092e-04],\n",
       "       [9.82576132e-01, 1.67746786e-02, 6.49187947e-04],\n",
       "       [2.56978660e-06, 3.25491428e-01, 6.74505949e-01],\n",
       "       [9.41820860e-01, 5.75792976e-02, 5.99891879e-04],\n",
       "       [5.99075367e-09, 2.19367836e-02, 9.78063285e-01],\n",
       "       [3.57025236e-08, 3.38154845e-03, 9.96618390e-01],\n",
       "       [9.73767519e-01, 2.58436427e-02, 3.88930697e-04],\n",
       "       [9.68435526e-01, 2.88138203e-02, 2.75061140e-03],\n",
       "       [9.88783300e-01, 1.10043641e-02, 2.12443832e-04],\n",
       "       [9.83923614e-01, 1.55458329e-02, 5.30468358e-04],\n",
       "       [9.51825023e-01, 4.10227664e-02, 7.15221046e-03],\n",
       "       [9.16416869e-02, 8.26131165e-01, 8.22270438e-02],\n",
       "       [6.93665788e-05, 8.83402765e-01, 1.16527863e-01],\n",
       "       [5.03755331e-01, 4.96100485e-01, 1.44240723e-04],\n",
       "       [9.63902846e-03, 9.85324323e-01, 5.03661809e-03],\n",
       "       [4.42761348e-08, 2.06623125e-04, 9.99793351e-01],\n",
       "       [9.45369771e-04, 9.95404840e-01, 3.64982267e-03],\n",
       "       [5.08855992e-05, 4.53404278e-01, 5.46544850e-01],\n",
       "       [5.77050145e-04, 9.90393937e-01, 9.02898517e-03],\n",
       "       [1.17089712e-06, 2.21152790e-03, 9.97787237e-01],\n",
       "       [2.60339980e-03, 9.92124498e-01, 5.27219381e-03],\n",
       "       [4.44414127e-06, 9.85383391e-01, 1.46121578e-02],\n",
       "       [9.86478984e-01, 1.31786345e-02, 3.42352490e-04],\n",
       "       [9.86567080e-01, 1.30962031e-02, 3.36710451e-04],\n",
       "       [1.87942089e-04, 2.39982039e-01, 7.59829998e-01],\n",
       "       [9.64377403e-01, 3.19808982e-02, 3.64163797e-03],\n",
       "       [1.99199667e-06, 6.88752457e-02, 9.31122780e-01],\n",
       "       [2.14602624e-05, 2.13463008e-01, 7.86515534e-01],\n",
       "       [9.76764619e-01, 2.19133589e-02, 1.32204627e-03],\n",
       "       [3.34405862e-02, 9.62525070e-01, 4.03436972e-03],\n",
       "       [5.50731386e-07, 1.69824599e-03, 9.98301208e-01],\n",
       "       [2.78390720e-02, 9.16741252e-01, 5.54197282e-02],\n",
       "       [9.39636827e-01, 4.88262288e-02, 1.15369605e-02],\n",
       "       [1.22564154e-08, 1.33790495e-03, 9.98662114e-01],\n",
       "       [2.13331240e-03, 9.60410118e-01, 3.74566205e-02],\n",
       "       [1.73169523e-04, 9.95753884e-01, 4.07299818e-03],\n",
       "       [1.86750242e-07, 3.37167294e-03, 9.96628106e-01],\n",
       "       [1.20801851e-03, 9.17537749e-01, 8.12542662e-02],\n",
       "       [1.23814191e-03, 9.90663409e-01, 8.09848867e-03],\n",
       "       [4.45241781e-08, 7.42364558e-04, 9.99257624e-01],\n",
       "       [5.97350858e-03, 9.93600011e-01, 4.26537648e-04],\n",
       "       [9.82691228e-01, 1.66702271e-02, 6.38506957e-04],\n",
       "       [1.18142971e-05, 7.10111022e-01, 2.89877146e-01],\n",
       "       [9.77939188e-01, 2.08961889e-02, 1.16467592e-03],\n",
       "       [1.04701181e-03, 9.81998801e-01, 1.69542022e-02],\n",
       "       [9.77192461e-01, 2.15441249e-02, 1.26346026e-03],\n",
       "       [9.75659370e-01, 2.28605364e-02, 1.48010976e-03],\n",
       "       [9.70673740e-01, 2.70130765e-02, 2.31322739e-03],\n",
       "       [1.31547637e-03, 6.75969779e-01, 3.22714716e-01],\n",
       "       [1.40663687e-05, 2.46956781e-03, 9.97516394e-01],\n",
       "       [7.64302058e-06, 2.17228495e-02, 9.78269458e-01],\n",
       "       [9.74816382e-01, 2.35764440e-02, 1.60717429e-03],\n",
       "       [1.88936902e-08, 4.31532331e-04, 9.99568403e-01],\n",
       "       [1.78247990e-06, 6.69356261e-04, 9.99328852e-01],\n",
       "       [3.33779865e-10, 1.01982080e-03, 9.98980105e-01],\n",
       "       [1.18763933e-06, 7.26437569e-01, 2.73561269e-01],\n",
       "       [9.91783619e-01, 8.12119246e-03, 9.52133851e-05]], dtype=float32)"
      ]
     },
     "execution_count": 20,
     "metadata": {},
     "output_type": "execute_result"
    }
   ],
   "source": [
    "probs = model.predict(x_test)\n",
    "probs"
   ]
  },
  {
   "cell_type": "code",
   "execution_count": null,
   "metadata": {},
   "outputs": [],
   "source": []
  },
  {
   "cell_type": "markdown",
   "metadata": {},
   "source": [
    "We want to say what is the predicted class, so we pick just the largest probability for each result"
   ]
  },
  {
   "cell_type": "code",
   "execution_count": 11,
   "metadata": {
    "ExecuteTime": {
     "end_time": "2019-06-18T16:18:23.706830Z",
     "start_time": "2019-06-18T16:18:23.703922Z"
    }
   },
   "outputs": [
    {
     "data": {
      "text/plain": [
       "array([0, 0, 2, 0, 0, 2, 0, 2, 2, 0, 0, 0, 0, 0, 1, 1, 1, 1, 2, 1, 2, 1,\n",
       "       2, 1, 1, 0, 0, 2, 0, 2, 2, 0, 1, 2, 1, 0, 2, 1, 1, 2, 1, 1, 2, 1,\n",
       "       0, 1, 0, 1, 0, 0, 0, 1, 2, 2, 0, 2, 2, 2, 1, 0])"
      ]
     },
     "execution_count": 11,
     "metadata": {},
     "output_type": "execute_result"
    }
   ],
   "source": [
    "predictions = np.argmax(classes, axis=1)\n",
    "\n",
    "predictions"
   ]
  },
  {
   "cell_type": "markdown",
   "metadata": {},
   "source": [
    "Finally, we can see how accurate our model was by seeing if the predicted classes match the actual labels. Note that this is calculated differently from how the loss is calculated."
   ]
  },
  {
   "cell_type": "code",
   "execution_count": 12,
   "metadata": {
    "ExecuteTime": {
     "end_time": "2019-06-18T16:18:23.715400Z",
     "start_time": "2019-06-18T16:18:23.708557Z"
    }
   },
   "outputs": [
    {
     "data": {
      "text/plain": [
       "array([0.91666667])"
      ]
     },
     "execution_count": 12,
     "metadata": {},
     "output_type": "execute_result"
    }
   ],
   "source": [
    "np.sum(predictions  == np.argmax(y_test, axis=1)) / predictions.shape"
   ]
  },
  {
   "cell_type": "markdown",
   "metadata": {},
   "source": [
    "### But Behold!!!! An out of the box RFC comes into the fold! "
   ]
  },
  {
   "cell_type": "code",
   "execution_count": 13,
   "metadata": {},
   "outputs": [],
   "source": [
    "from sklearn.ensemble import RandomForestClassifier"
   ]
  },
  {
   "cell_type": "code",
   "execution_count": 14,
   "metadata": {},
   "outputs": [],
   "source": [
    "clf = RandomForestClassifier()"
   ]
  },
  {
   "cell_type": "code",
   "execution_count": 15,
   "metadata": {},
   "outputs": [
    {
     "name": "stderr",
     "output_type": "stream",
     "text": [
      "/anaconda3/lib/python3.7/site-packages/sklearn/ensemble/forest.py:245: FutureWarning: The default value of n_estimators will change from 10 in version 0.20 to 100 in 0.22.\n",
      "  \"10 in version 0.20 to 100 in 0.22.\", FutureWarning)\n"
     ]
    },
    {
     "data": {
      "text/plain": [
       "RandomForestClassifier(bootstrap=True, class_weight=None, criterion='gini',\n",
       "                       max_depth=None, max_features='auto', max_leaf_nodes=None,\n",
       "                       min_impurity_decrease=0.0, min_impurity_split=None,\n",
       "                       min_samples_leaf=1, min_samples_split=2,\n",
       "                       min_weight_fraction_leaf=0.0, n_estimators=10,\n",
       "                       n_jobs=None, oob_score=False, random_state=None,\n",
       "                       verbose=0, warm_start=False)"
      ]
     },
     "execution_count": 15,
     "metadata": {},
     "output_type": "execute_result"
    }
   ],
   "source": [
    "clf.fit(x_train, y_train)"
   ]
  },
  {
   "cell_type": "code",
   "execution_count": 16,
   "metadata": {},
   "outputs": [
    {
     "data": {
      "text/plain": [
       "0.9166666666666666"
      ]
     },
     "execution_count": 16,
     "metadata": {},
     "output_type": "execute_result"
    }
   ],
   "source": [
    "clf.score(x_test, y_test)"
   ]
  },
  {
   "cell_type": "code",
   "execution_count": null,
   "metadata": {},
   "outputs": [],
   "source": []
  }
 ],
 "metadata": {
  "kernelspec": {
   "display_name": "Python 3",
   "language": "python",
   "name": "python3"
  },
  "language_info": {
   "codemirror_mode": {
    "name": "ipython",
    "version": 3
   },
   "file_extension": ".py",
   "mimetype": "text/x-python",
   "name": "python",
   "nbconvert_exporter": "python",
   "pygments_lexer": "ipython3",
   "version": "3.7.3"
  },
  "toc": {
   "base_numbering": 1,
   "nav_menu": {},
   "number_sections": true,
   "sideBar": true,
   "skip_h1_title": false,
   "title_cell": "Table of Contents",
   "title_sidebar": "Contents",
   "toc_cell": false,
   "toc_position": {},
   "toc_section_display": true,
   "toc_window_display": false
  },
  "varInspector": {
   "cols": {
    "lenName": 16,
    "lenType": 16,
    "lenVar": 40
   },
   "kernels_config": {
    "python": {
     "delete_cmd_postfix": "",
     "delete_cmd_prefix": "del ",
     "library": "var_list.py",
     "varRefreshCmd": "print(var_dic_list())"
    },
    "r": {
     "delete_cmd_postfix": ") ",
     "delete_cmd_prefix": "rm(",
     "library": "var_list.r",
     "varRefreshCmd": "cat(var_dic_list()) "
    }
   },
   "types_to_exclude": [
    "module",
    "function",
    "builtin_function_or_method",
    "instance",
    "_Feature"
   ],
   "window_display": false
  }
 },
 "nbformat": 4,
 "nbformat_minor": 2
}
